{
 "cells": [
  {
   "cell_type": "code",
   "execution_count": null,
   "id": "8d831a68",
   "metadata": {},
   "outputs": [],
   "source": [
    "import json\n",
    "import requests\n",
    "import pandas as pd\n",
    "import matplotlib.pyplot as plt"
   ]
  },
  {
   "cell_type": "code",
   "execution_count": null,
   "id": "f3ef20ee",
   "metadata": {},
   "outputs": [],
   "source": [
    "# Reads from the url and stores the response in a json file\n",
    "def readAPI(url, params, headers, myfile):\n",
    "    list = []\n",
    "    \n",
    "    # Prepares the request to see the full URL being used\n",
    "    prepared_request = requests.Request('GET', url, params=params).prepare()\n",
    "    print(\"Request URL:\", prepared_request.url)\n",
    "    \n",
    "    # Sends the request and get response as JSON\n",
    "    response = requests.get(url, params=params, headers=headers).json()\n",
    "    list.append(response)\n",
    "    \n",
    "    # Save the JSON response to a file      \n",
    "    with open(myfile, 'w', encoding='utf-8') as f:\n",
    "        json.dump(list, f)\n",
    "    return\n"
   ]
  },
  {
   "cell_type": "code",
   "execution_count": null,
   "id": "7c1a0cc7",
   "metadata": {},
   "outputs": [],
   "source": [
    "company = \"Novo nordisk\"\n",
    "\n",
    "# Cleaning up company name (remove spaces at start and end)\n",
    "company = company.strip()\n",
    "\n",
    "# API settings happens here\n",
    "user = 'user'\n",
    "\n",
    "url = 'https://cvrapi.dk/api'\n",
    "params = {'search': company, 'country': 'dk'}\n",
    "headers = {'User-Agent': user}\n",
    "\n",
    "# The name of the file name where we want to save the API response\n",
    "myfile = 'apitest.json'\n"
   ]
  },
  {
   "cell_type": "code",
   "execution_count": null,
   "id": "775de690",
   "metadata": {},
   "outputs": [
    {
     "name": "stdout",
     "output_type": "stream",
     "text": [
      "Request URL: https://cvrapi.dk/api?search=Novo+nordisk&country=dk\n"
     ]
    }
   ],
   "source": [
    "# We call function to get the API data and save it\n",
    "response = readAPI(url, params, headers, myfile)\n"
   ]
  },
  {
   "cell_type": "code",
   "execution_count": null,
   "id": "53f292b5",
   "metadata": {},
   "outputs": [
    {
     "data": {
      "text/html": [
       "<div>\n",
       "<style scoped>\n",
       "    .dataframe tbody tr th:only-of-type {\n",
       "        vertical-align: middle;\n",
       "    }\n",
       "\n",
       "    .dataframe tbody tr th {\n",
       "        vertical-align: top;\n",
       "    }\n",
       "\n",
       "    .dataframe thead th {\n",
       "        text-align: right;\n",
       "    }\n",
       "</style>\n",
       "<table border=\"1\" class=\"dataframe\">\n",
       "  <thead>\n",
       "    <tr style=\"text-align: right;\">\n",
       "      <th></th>\n",
       "      <th>vat</th>\n",
       "      <th>name</th>\n",
       "      <th>address</th>\n",
       "      <th>zipcode</th>\n",
       "      <th>city</th>\n",
       "      <th>cityname</th>\n",
       "      <th>protected</th>\n",
       "      <th>phone</th>\n",
       "      <th>email</th>\n",
       "      <th>fax</th>\n",
       "      <th>...</th>\n",
       "      <th>industrydesc</th>\n",
       "      <th>companycode</th>\n",
       "      <th>companydesc</th>\n",
       "      <th>creditstartdate</th>\n",
       "      <th>creditbankrupt</th>\n",
       "      <th>creditstatus</th>\n",
       "      <th>owners</th>\n",
       "      <th>productionunits</th>\n",
       "      <th>t</th>\n",
       "      <th>version</th>\n",
       "    </tr>\n",
       "  </thead>\n",
       "  <tbody>\n",
       "    <tr>\n",
       "      <th>0</th>\n",
       "      <td>24256790</td>\n",
       "      <td>NOVO NORDISK A/S</td>\n",
       "      <td>Novo Alle 1</td>\n",
       "      <td>2880</td>\n",
       "      <td>Bagsværd</td>\n",
       "      <td>NaN</td>\n",
       "      <td>False</td>\n",
       "      <td>44448888</td>\n",
       "      <td>NaN</td>\n",
       "      <td>NaN</td>\n",
       "      <td>...</td>\n",
       "      <td>Fremstilling af farmaceutiske præparater</td>\n",
       "      <td>60</td>\n",
       "      <td>Aktieselskab</td>\n",
       "      <td>NaN</td>\n",
       "      <td>False</td>\n",
       "      <td>NaN</td>\n",
       "      <td>NaN</td>\n",
       "      <td>[{'pno': 1017661031, 'main': False, 'name': 'N...</td>\n",
       "      <td>100</td>\n",
       "      <td>6</td>\n",
       "    </tr>\n",
       "  </tbody>\n",
       "</table>\n",
       "<p>1 rows × 25 columns</p>\n",
       "</div>"
      ],
      "text/plain": [
       "        vat              name      address  zipcode      city  cityname  \\\n",
       "0  24256790  NOVO NORDISK A/S  Novo Alle 1     2880  Bagsværd       NaN   \n",
       "\n",
       "   protected     phone  email  fax  ...  \\\n",
       "0      False  44448888    NaN  NaN  ...   \n",
       "\n",
       "                               industrydesc  companycode   companydesc  \\\n",
       "0  Fremstilling af farmaceutiske præparater           60  Aktieselskab   \n",
       "\n",
       "   creditstartdate  creditbankrupt creditstatus  owners  \\\n",
       "0              NaN           False          NaN     NaN   \n",
       "\n",
       "                                     productionunits    t  version  \n",
       "0  [{'pno': 1017661031, 'main': False, 'name': 'N...  100        6  \n",
       "\n",
       "[1 rows x 25 columns]"
      ]
     },
     "execution_count": 9,
     "metadata": {},
     "output_type": "execute_result"
    }
   ],
   "source": [
    "# and then reads the saved JSON file into pandas DataFrame\n",
    "df = pd.read_json(myfile)\n",
    "df\n"
   ]
  },
  {
   "cell_type": "code",
   "execution_count": null,
   "id": "c9936c1f",
   "metadata": {},
   "outputs": [
    {
     "data": {
      "text/html": [
       "<div>\n",
       "<style scoped>\n",
       "    .dataframe tbody tr th:only-of-type {\n",
       "        vertical-align: middle;\n",
       "    }\n",
       "\n",
       "    .dataframe tbody tr th {\n",
       "        vertical-align: top;\n",
       "    }\n",
       "\n",
       "    .dataframe thead th {\n",
       "        text-align: right;\n",
       "    }\n",
       "</style>\n",
       "<table border=\"1\" class=\"dataframe\">\n",
       "  <thead>\n",
       "    <tr style=\"text-align: right;\">\n",
       "      <th></th>\n",
       "      <th>vat</th>\n",
       "      <th>name</th>\n",
       "      <th>address</th>\n",
       "      <th>zipcode</th>\n",
       "      <th>city</th>\n",
       "      <th>cityname</th>\n",
       "      <th>protected</th>\n",
       "      <th>phone</th>\n",
       "      <th>email</th>\n",
       "      <th>fax</th>\n",
       "      <th>...</th>\n",
       "      <th>industrydesc</th>\n",
       "      <th>companycode</th>\n",
       "      <th>companydesc</th>\n",
       "      <th>creditstartdate</th>\n",
       "      <th>creditbankrupt</th>\n",
       "      <th>creditstatus</th>\n",
       "      <th>owners</th>\n",
       "      <th>productionunits</th>\n",
       "      <th>t</th>\n",
       "      <th>version</th>\n",
       "    </tr>\n",
       "  </thead>\n",
       "  <tbody>\n",
       "    <tr>\n",
       "      <th>0</th>\n",
       "      <td>24256790</td>\n",
       "      <td>NOVO NORDISK A/S</td>\n",
       "      <td>Novo Alle 1</td>\n",
       "      <td>2880</td>\n",
       "      <td>Bagsværd</td>\n",
       "      <td>None</td>\n",
       "      <td>False</td>\n",
       "      <td>44448888</td>\n",
       "      <td>None</td>\n",
       "      <td>None</td>\n",
       "      <td>...</td>\n",
       "      <td>Fremstilling af farmaceutiske præparater</td>\n",
       "      <td>60</td>\n",
       "      <td>Aktieselskab</td>\n",
       "      <td>None</td>\n",
       "      <td>False</td>\n",
       "      <td>None</td>\n",
       "      <td>None</td>\n",
       "      <td>[{'pno': 1017661031, 'main': False, 'name': 'N...</td>\n",
       "      <td>100</td>\n",
       "      <td>6</td>\n",
       "    </tr>\n",
       "  </tbody>\n",
       "</table>\n",
       "<p>1 rows × 25 columns</p>\n",
       "</div>"
      ],
      "text/plain": [
       "        vat              name      address zipcode      city cityname  \\\n",
       "0  24256790  NOVO NORDISK A/S  Novo Alle 1    2880  Bagsværd     None   \n",
       "\n",
       "   protected     phone email   fax  ...  \\\n",
       "0      False  44448888  None  None  ...   \n",
       "\n",
       "                               industrydesc companycode   companydesc  \\\n",
       "0  Fremstilling af farmaceutiske præparater          60  Aktieselskab   \n",
       "\n",
       "  creditstartdate  creditbankrupt creditstatus  owners  \\\n",
       "0            None           False         None    None   \n",
       "\n",
       "                                     productionunits    t  version  \n",
       "0  [{'pno': 1017661031, 'main': False, 'name': 'N...  100        6  \n",
       "\n",
       "[1 rows x 25 columns]"
      ]
     },
     "execution_count": 10,
     "metadata": {},
     "output_type": "execute_result"
    }
   ],
   "source": [
    "# Normalize JSON data (flatten it into table format) so we dont end up with a long list of info\n",
    "with open(myfile, 'r', encoding='utf-8') as f:\n",
    "    data = json.load(f)\n",
    "\n",
    "# Takes the first element from the list\n",
    "response_data = data[0]\n",
    "\n",
    "# Normalize JSON data to flat table\n",
    "df_normalized = pd.json_normalize(response_data)\n",
    "df_normalized\n"
   ]
  },
  {
   "cell_type": "code",
   "execution_count": null,
   "id": "bb438602",
   "metadata": {},
   "outputs": [
    {
     "data": {
      "text/html": [
       "<div>\n",
       "<style scoped>\n",
       "    .dataframe tbody tr th:only-of-type {\n",
       "        vertical-align: middle;\n",
       "    }\n",
       "\n",
       "    .dataframe tbody tr th {\n",
       "        vertical-align: top;\n",
       "    }\n",
       "\n",
       "    .dataframe thead th {\n",
       "        text-align: right;\n",
       "    }\n",
       "</style>\n",
       "<table border=\"1\" class=\"dataframe\">\n",
       "  <thead>\n",
       "    <tr style=\"text-align: right;\">\n",
       "      <th></th>\n",
       "      <th>vat</th>\n",
       "      <th>name</th>\n",
       "      <th>employees</th>\n",
       "      <th>address</th>\n",
       "      <th>zipcode</th>\n",
       "      <th>city</th>\n",
       "      <th>industrydesc</th>\n",
       "    </tr>\n",
       "  </thead>\n",
       "  <tbody>\n",
       "    <tr>\n",
       "      <th>0</th>\n",
       "      <td>24256790</td>\n",
       "      <td>NOVO NORDISK A/S</td>\n",
       "      <td>32792</td>\n",
       "      <td>Novo Alle 1</td>\n",
       "      <td>2880</td>\n",
       "      <td>Bagsværd</td>\n",
       "      <td>Fremstilling af farmaceutiske præparater</td>\n",
       "    </tr>\n",
       "  </tbody>\n",
       "</table>\n",
       "</div>"
      ],
      "text/plain": [
       "        vat              name  employees      address zipcode      city  \\\n",
       "0  24256790  NOVO NORDISK A/S      32792  Novo Alle 1    2880  Bagsværd   \n",
       "\n",
       "                               industrydesc  \n",
       "0  Fremstilling af farmaceutiske præparater  "
      ]
     },
     "execution_count": 11,
     "metadata": {},
     "output_type": "execute_result"
    }
   ],
   "source": [
    "# Selects specific columns \n",
    "selected_columns = ['vat', 'name', 'employees', 'address', 'zipcode', 'city', 'industrydesc']\n",
    "df_selected = df_normalized[selected_columns]\n",
    "\n",
    "# Shows the selected DataFrame\n",
    "df_selected\n"
   ]
  },
  {
   "cell_type": "code",
   "execution_count": null,
   "id": "722943ef",
   "metadata": {},
   "outputs": [
    {
     "name": "stdout",
     "output_type": "stream",
     "text": [
      "CSV file saved to: ../CSVFolder/selected_company_data.csv\n"
     ]
    }
   ],
   "source": [
    "#Safes and clearns data to CSV\n",
    "csv_path = '../CSVFolder/selected_company_data.csv' \n",
    "df_selected.to_csv(csv_path, index=False, encoding='utf-8-sig')\n",
    "\n",
    "print(f\"CSV file saved to: {csv_path}\")\n"
   ]
  },
  {
   "cell_type": "code",
   "execution_count": null,
   "id": "d3bae480",
   "metadata": {},
   "outputs": [
    {
     "data": {
      "image/png": "[encoded data removed]",
      "text/plain": [
       "<Figure size 640x480 with 1 Axes>"
      ]
     },
     "metadata": {},
     "output_type": "display_data"
    }
   ],
   "source": [
    "# Plots number of employees on their position\n",
    "df_selected['employees'].plot(kind='bar', title='Number of employees in the company')\n",
    "plt.xlabel('Company')\n",
    "plt.ylabel('Number of Employees')\n",
    "plt.xticks(rotation=45)\n",
    "plt.tight_layout()\n",
    "plt.show()"
   ]
  }
 ],
 "metadata": {
  "kernelspec": {
   "display_name": "base",
   "language": "python",
   "name": "python3"
  },
  "language_info": {
   "codemirror_mode": {
    "name": "ipython",
    "version": 3
   },
   "file_extension": ".py",
   "mimetype": "text/x-python",
   "name": "python",
   "nbconvert_exporter": "python",
   "pygments_lexer": "ipython3",
   "version": "3.12.7"
  }
 },
 "nbformat": 4,
 "nbformat_minor": 5
}
