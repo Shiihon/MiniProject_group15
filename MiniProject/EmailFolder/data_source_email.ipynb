{
 "cells": [
  {
   "cell_type": "markdown",
   "id": "0843f944",
   "metadata": {},
   "source": [
    "# Mini Project 1: Data Ingestion and Wrangling"
   ]
  },
  {
   "cell_type": "markdown",
   "id": "4ef85a9c",
   "metadata": {},
   "source": [
    "### All Imports"
   ]
  },
  {
   "cell_type": "code",
   "execution_count": 473,
   "id": "8a21165d",
   "metadata": {},
   "outputs": [],
   "source": [
    "import pandas as pd\n",
    "import imaplib\n",
    "import email\n",
    "import os\n",
    "import re\n",
    "import matplotlib.pyplot as plt\n",
    "import matplotlib.ticker as ticker\n",
    "\n",
    "from email.header import decode_header\n",
    "from dotenv import load_dotenv\n",
    "from IPython.display import display"
   ]
  },
  {
   "cell_type": "markdown",
   "id": "b549ab3e",
   "metadata": {},
   "source": [
    "## Data Source: E-mail"
   ]
  },
  {
   "cell_type": "markdown",
   "id": "a8626915",
   "metadata": {},
   "source": [
    "### 1. Load data from an e-mail"
   ]
  },
  {
   "cell_type": "markdown",
   "id": "9c4fadb0",
   "metadata": {},
   "source": [
    "##### Setup credentials"
   ]
  },
  {
   "cell_type": "code",
   "execution_count": 474,
   "id": "f8994cbe",
   "metadata": {},
   "outputs": [],
   "source": [
    "# Load the variables from the .env file\n",
    "load_dotenv()\n",
    "\n",
    "my_email = os.getenv(\"EMAIL_ADDRESS\")\n",
    "my_app_password = os.getenv(\"EMAIL_PASSWORD\")\n",
    "\n",
    "gmail_host = \"imap.gmail.com\""
   ]
  },
  {
   "cell_type": "markdown",
   "id": "bf46beeb",
   "metadata": {},
   "source": [
    "##### Connect to host server & login"
   ]
  },
  {
   "cell_type": "code",
   "execution_count": 475,
   "id": "73e6bf6e",
   "metadata": {},
   "outputs": [
    {
     "data": {
      "text/plain": [
       "('OK', [b'3'])"
      ]
     },
     "execution_count": 475,
     "metadata": {},
     "output_type": "execute_result"
    }
   ],
   "source": [
    "# Set connection\n",
    "mail = imaplib.IMAP4_SSL(gmail_host)\n",
    "\n",
    "# Login\n",
    "mail.login(my_email, my_app_password)\n",
    "\n",
    "# Select inbox to read from\n",
    "mail.select(\"INBOX\")"
   ]
  },
  {
   "cell_type": "markdown",
   "id": "86e5b61d",
   "metadata": {},
   "source": [
    "##### Method for decoding emails and file attachments"
   ]
  },
  {
   "cell_type": "code",
   "execution_count": 476,
   "id": "35a76239",
   "metadata": {},
   "outputs": [],
   "source": [
    "def DecodeEmails(found_emails, download_dir=\"mail_attachments\"):\n",
    "    # Get the current working directory\n",
    "    current_path = os.getcwd()\n",
    "\n",
    "    # Ensure the download directory exists (it will be created in the current path)\n",
    "    download_path = os.path.join(current_path, download_dir)\n",
    "    if not os.path.exists(download_path):\n",
    "        os.makedirs(download_path)\n",
    "\n",
    "    # Empty list to store all the email datas\n",
    "    email_data = [] \n",
    "\n",
    "    # mail.search() method returns a list of single binary data representing emails ID in bytes\n",
    "    email_ids = found_emails[0].split()\n",
    "\n",
    "    for email_id in email_ids:\n",
    "        try:\n",
    "            # Fetch the email by ID\n",
    "            _, msg_data = mail.fetch(email_id, \"(RFC822)\")\n",
    "\n",
    "            for response_part in msg_data:\n",
    "                if isinstance(response_part, tuple):\n",
    "                    # Get email content\n",
    "                    email_message = email.message_from_bytes(response_part[1])\n",
    "\n",
    "                    # Decode the subject \n",
    "                    subject = decode_header(email_message.get(\"Subject\", \"(No Subject)\"))[0][0]\n",
    "                    if isinstance(subject, bytes):\n",
    "                        subject = subject.decode('utf-8', errors='ignore')\n",
    "\n",
    "                    # Get the sender's email address\n",
    "                    sender = decode_header(email_message.get(\"From\", \"Unknown Sender\"))[0][0]\n",
    "                    if isinstance(sender, bytes):\n",
    "                        sender = sender.decode('utf-8', errors='ignore')\n",
    "\n",
    "                    # Get the receiving email address\n",
    "                    receiver = email_message.get(\"To\", \"Unknown Recipient\")\n",
    "\n",
    "                    # Get the date of the email\n",
    "                    date = email_message.get(\"Date\", \"Unknown Date\")\n",
    "\n",
    "                    # Empty body variables for email body content\n",
    "                    plain_body = \"\"\n",
    "                    html_body = \"\"\n",
    "\n",
    "                    # Empty file attachment list to store attached files\n",
    "                    attachments = []\n",
    "\n",
    "                    # Walk through the email parts\n",
    "                    for part in email_message.walk():\n",
    "                        content_type = part.get_content_type()\n",
    "                        content_disposition = str(part.get(\"Content-Disposition\", \"\"))\n",
    "\n",
    "                        # Handle attachments\n",
    "                        if \"attachment\" in content_disposition or part.get_filename():\n",
    "                            filename = part.get_filename()\n",
    "                            # If the file does not have a proper filename\n",
    "                            if not filename:\n",
    "                                # Use a generic name with a number and no extension\n",
    "                                filename = f\"file_{len(attachments)+1}\"\n",
    "                            \n",
    "                            # Decode filename\n",
    "                            filename = decode_header(filename)[0][0]\n",
    "                            if isinstance(filename, bytes):\n",
    "                                filename = filename.decode('utf-8', errors='ignore')\n",
    "                            \n",
    "                            # Clean filename but preserve the original extension\n",
    "                            cleaned_name = []\n",
    "                            extension = \"\"\n",
    "                            if '.' in filename:\n",
    "                                # Split into name and extension\n",
    "                                *name_parts, ext = filename.split('.')\n",
    "                                base_name = '.'.join(name_parts)\n",
    "                                extension = f\".{ext}\" if ext else \"\"\n",
    "                            else:\n",
    "                                base_name = filename\n",
    "\n",
    "                            # Clean the base name (without extension)\n",
    "                            for c in base_name:\n",
    "                                if c.isalnum() or c in (' ', '_', '-'):\n",
    "                                    cleaned_name.append(c)\n",
    "\n",
    "                            # Reconstruct filename with cleaned base and original extension\n",
    "                            filename = f\"{''.join(cleaned_name).strip()}{extension}\"\n",
    "\n",
    "                            # Ensure unique filename\n",
    "                            base, ext = os.path.splitext(filename)\n",
    "                            counter = 1\n",
    "                            while os.path.exists(os.path.join(download_dir, filename)):\n",
    "                                filename = f\"{base}_{counter}{ext}\"\n",
    "                                counter += 1\n",
    "                            \n",
    "                            # Save the attachment\n",
    "                            try:\n",
    "                                file_data = part.get_payload(decode=True)\n",
    "                                if file_data:\n",
    "                                    filepath = os.path.join(download_dir, filename)\n",
    "                                    with open(filepath, 'wb') as f:\n",
    "                                        f.write(file_data)\n",
    "\n",
    "                                    attachments.append({\n",
    "                                        \"filename\": filename\n",
    "                                    })\n",
    "                                    \n",
    "                            except Exception as e:\n",
    "                                print(f\"Failed to save attachment {filename}: {str(e)}\")\n",
    "                        \n",
    "                        # Handle email body\n",
    "                        elif content_type == \"text/plain\" and \"attachment\" not in content_disposition:\n",
    "                            try:\n",
    "                                body_part = part.get_payload(decode=True)\n",
    "                                if body_part:\n",
    "                                    plain_body += body_part.decode('utf-8', errors='ignore').replace(\"\\r\\n\", \"\\n\")\n",
    "                            except Exception as e:\n",
    "                                print(f\"Error decoding plain text body: {str(e)}\")\n",
    "\n",
    "                        elif content_type == \"text/html\" and \"attachment\" not in content_disposition:\n",
    "                            try:\n",
    "                                body_part = part.get_payload(decode=True)\n",
    "                                if body_part:\n",
    "                                    html_body += body_part.decode('utf-8', errors='ignore').replace(\"\\r\\n\", \"\\n\")\n",
    "                            except Exception as e:\n",
    "                                print(f\"Error decoding HTML body: {str(e)}\")\n",
    "\n",
    "                    # Use HTML body if plain text is empty\n",
    "                    body = plain_body if plain_body else html_body\n",
    "\n",
    "                    # Add all info to email_data\n",
    "                    email_data.append({\n",
    "                        \"Subject\": subject,\n",
    "                        \"From\": sender,\n",
    "                        \"To\": receiver,\n",
    "                        \"Date\": date,\n",
    "                        \"Body\": body,\n",
    "                        \"Attachments\": attachments \n",
    "                    })\n",
    "\n",
    "        except Exception as e:\n",
    "            print(f\"Error processing email {email_id}: {str(e)}\")\n",
    "            continue\n",
    "\n",
    "    return email_data"
   ]
  },
  {
   "cell_type": "markdown",
   "id": "108f9262",
   "metadata": {},
   "source": [
    "##### Select types of mails to read"
   ]
  },
  {
   "cell_type": "code",
   "execution_count": 477,
   "id": "06580693",
   "metadata": {},
   "outputs": [],
   "source": [
    "# # Select mails from specific email address\n",
    "# mail_sender = os.getenv(\"MAIL_SENDER\")\n",
    "# search_criteria = f'(FROM \"{mail_sender}\")'\n",
    "# status, selected_mails = mail.search(None, search_criteria)\n",
    "\n",
    "# Search for all emails\n",
    "search_criteria = 'ALL'\n",
    "status, selected_mails = mail.search(None, search_criteria)\n",
    "\n",
    "# Empty list to store the email data\n",
    "email_data = [] \n",
    "\n",
    "# Check for chosen emails\n",
    "if status == \"OK\" and selected_mails[0]:\n",
    "    email_data = DecodeEmails(selected_mails)\n",
    "else:\n",
    "    print(\"No emails found.\")"
   ]
  },
  {
   "cell_type": "markdown",
   "id": "ce59887e",
   "metadata": {},
   "source": [
    "##### Display first found email as plain text"
   ]
  },
  {
   "cell_type": "code",
   "execution_count": 478,
   "id": "777f68a7",
   "metadata": {},
   "outputs": [
    {
     "name": "stdout",
     "output_type": "stream",
     "text": [
      "Subject: Test email\n",
      "From: orniliya petersen <orniliyaap@gmail.com>\n",
      "To: \"business.int2025@gmail.com\" <business.int2025@gmail.com>\n",
      "Date: Fri, 11 Apr 2025 10:57:28 +0200\n",
      "Body: Hi there,\n",
      "\n",
      "This is a test email. Please disregard.\n",
      "\n",
      "Best regards,\n",
      "Liya\n",
      "\n",
      "Attachments: []\n",
      "----------------------------------------\n"
     ]
    }
   ],
   "source": [
    "print(f\"Subject: {email_data[0]['Subject']}\")\n",
    "print(f\"From: {email_data[0]['From']}\")\n",
    "print(f\"To: {email_data[0]['To']}\")\n",
    "print(f\"Date: {email_data[0]['Date']}\")\n",
    "print(f\"Body: {email_data[0]['Body']}\")\n",
    "print(f\"Attachments: {email_data[0]['Attachments']}\")\n",
    "print(\"-\" * 40)"
   ]
  },
  {
   "cell_type": "markdown",
   "id": "77705092",
   "metadata": {},
   "source": [
    "### 2. Transforming and ingesting the data"
   ]
  },
  {
   "cell_type": "code",
   "execution_count": 479,
   "id": "c533c13c",
   "metadata": {},
   "outputs": [
    {
     "data": {
      "text/html": [
       "<div>\n",
       "<style scoped>\n",
       "    .dataframe tbody tr th:only-of-type {\n",
       "        vertical-align: middle;\n",
       "    }\n",
       "\n",
       "    .dataframe tbody tr th {\n",
       "        vertical-align: top;\n",
       "    }\n",
       "\n",
       "    .dataframe thead th {\n",
       "        text-align: right;\n",
       "    }\n",
       "</style>\n",
       "<table border=\"1\" class=\"dataframe\">\n",
       "  <thead>\n",
       "    <tr style=\"text-align: right;\">\n",
       "      <th></th>\n",
       "      <th>Subject</th>\n",
       "      <th>From</th>\n",
       "      <th>To</th>\n",
       "      <th>Date</th>\n",
       "      <th>Body</th>\n",
       "      <th>Attachments</th>\n",
       "    </tr>\n",
       "  </thead>\n",
       "  <tbody>\n",
       "    <tr>\n",
       "      <th>0</th>\n",
       "      <td>Test email</td>\n",
       "      <td>orniliya petersen &lt;orniliyaap@gmail.com&gt;</td>\n",
       "      <td>\"business.int2025@gmail.com\" &lt;business.int2025...</td>\n",
       "      <td>Fri, 11 Apr 2025 10:57:28 +0200</td>\n",
       "      <td>Hi there,\\n\\nThis is a test email. Please disr...</td>\n",
       "      <td>[]</td>\n",
       "    </tr>\n",
       "    <tr>\n",
       "      <th>1</th>\n",
       "      <td>Quick Check-In</td>\n",
       "      <td>orniliya petersen &lt;orniliyaap@gmail.com&gt;</td>\n",
       "      <td>\"business.int2025@gmail.com\" &lt;business.int2025...</td>\n",
       "      <td>Fri, 11 Apr 2025 10:59:05 +0200</td>\n",
       "      <td>Hey you,\\n\\nI hope you're doing well. I just w...</td>\n",
       "      <td>[]</td>\n",
       "    </tr>\n",
       "    <tr>\n",
       "      <th>2</th>\n",
       "      <td>Dataset for screen time</td>\n",
       "      <td>orniliya petersen &lt;orniliyaap@gmail.com&gt;</td>\n",
       "      <td>\"business.int2025@gmail.com\" &lt;business.int2025...</td>\n",
       "      <td>Fri, 11 Apr 2025 13:39:32 +0200</td>\n",
       "      <td>\\n</td>\n",
       "      <td>[{'filename': 'screen_time.csv'}]</td>\n",
       "    </tr>\n",
       "  </tbody>\n",
       "</table>\n",
       "</div>"
      ],
      "text/plain": [
       "                   Subject                                      From  \\\n",
       "0               Test email  orniliya petersen <orniliyaap@gmail.com>   \n",
       "1           Quick Check-In  orniliya petersen <orniliyaap@gmail.com>   \n",
       "2  Dataset for screen time  orniliya petersen <orniliyaap@gmail.com>   \n",
       "\n",
       "                                                  To  \\\n",
       "0  \"business.int2025@gmail.com\" <business.int2025...   \n",
       "1  \"business.int2025@gmail.com\" <business.int2025...   \n",
       "2  \"business.int2025@gmail.com\" <business.int2025...   \n",
       "\n",
       "                              Date  \\\n",
       "0  Fri, 11 Apr 2025 10:57:28 +0200   \n",
       "1  Fri, 11 Apr 2025 10:59:05 +0200   \n",
       "2  Fri, 11 Apr 2025 13:39:32 +0200   \n",
       "\n",
       "                                                Body  \\\n",
       "0  Hi there,\\n\\nThis is a test email. Please disr...   \n",
       "1  Hey you,\\n\\nI hope you're doing well. I just w...   \n",
       "2                                                 \\n   \n",
       "\n",
       "                         Attachments  \n",
       "0                                 []  \n",
       "1                                 []  \n",
       "2  [{'filename': 'screen_time.csv'}]  "
      ]
     },
     "metadata": {},
     "output_type": "display_data"
    }
   ],
   "source": [
    "df = pd.DataFrame(email_data)\n",
    "\n",
    "display(df)"
   ]
  },
  {
   "cell_type": "markdown",
   "id": "4890190f",
   "metadata": {},
   "source": [
    "### 3. Explore and clean the data"
   ]
  },
  {
   "cell_type": "markdown",
   "id": "e4ee20a8",
   "metadata": {},
   "source": [
    "#### Basic exploration"
   ]
  },
  {
   "cell_type": "code",
   "execution_count": 480,
   "id": "81d5cb05",
   "metadata": {},
   "outputs": [
    {
     "data": {
      "text/html": [
       "<div>\n",
       "<style scoped>\n",
       "    .dataframe tbody tr th:only-of-type {\n",
       "        vertical-align: middle;\n",
       "    }\n",
       "\n",
       "    .dataframe tbody tr th {\n",
       "        vertical-align: top;\n",
       "    }\n",
       "\n",
       "    .dataframe thead th {\n",
       "        text-align: right;\n",
       "    }\n",
       "</style>\n",
       "<table border=\"1\" class=\"dataframe\">\n",
       "  <thead>\n",
       "    <tr style=\"text-align: right;\">\n",
       "      <th></th>\n",
       "      <th>Subject</th>\n",
       "      <th>From</th>\n",
       "      <th>To</th>\n",
       "      <th>Date</th>\n",
       "      <th>Body</th>\n",
       "      <th>Attachments</th>\n",
       "    </tr>\n",
       "  </thead>\n",
       "  <tbody>\n",
       "    <tr>\n",
       "      <th>0</th>\n",
       "      <td>Test email</td>\n",
       "      <td>orniliya petersen &lt;orniliyaap@gmail.com&gt;</td>\n",
       "      <td>\"business.int2025@gmail.com\" &lt;business.int2025...</td>\n",
       "      <td>Fri, 11 Apr 2025 10:57:28 +0200</td>\n",
       "      <td>Hi there,\\n\\nThis is a test email. Please disr...</td>\n",
       "      <td>[]</td>\n",
       "    </tr>\n",
       "    <tr>\n",
       "      <th>1</th>\n",
       "      <td>Quick Check-In</td>\n",
       "      <td>orniliya petersen &lt;orniliyaap@gmail.com&gt;</td>\n",
       "      <td>\"business.int2025@gmail.com\" &lt;business.int2025...</td>\n",
       "      <td>Fri, 11 Apr 2025 10:59:05 +0200</td>\n",
       "      <td>Hey you,\\n\\nI hope you're doing well. I just w...</td>\n",
       "      <td>[]</td>\n",
       "    </tr>\n",
       "    <tr>\n",
       "      <th>2</th>\n",
       "      <td>Dataset for screen time</td>\n",
       "      <td>orniliya petersen &lt;orniliyaap@gmail.com&gt;</td>\n",
       "      <td>\"business.int2025@gmail.com\" &lt;business.int2025...</td>\n",
       "      <td>Fri, 11 Apr 2025 13:39:32 +0200</td>\n",
       "      <td>\\n</td>\n",
       "      <td>[{'filename': 'screen_time.csv'}]</td>\n",
       "    </tr>\n",
       "  </tbody>\n",
       "</table>\n",
       "</div>"
      ],
      "text/plain": [
       "                   Subject                                      From  \\\n",
       "0               Test email  orniliya petersen <orniliyaap@gmail.com>   \n",
       "1           Quick Check-In  orniliya petersen <orniliyaap@gmail.com>   \n",
       "2  Dataset for screen time  orniliya petersen <orniliyaap@gmail.com>   \n",
       "\n",
       "                                                  To  \\\n",
       "0  \"business.int2025@gmail.com\" <business.int2025...   \n",
       "1  \"business.int2025@gmail.com\" <business.int2025...   \n",
       "2  \"business.int2025@gmail.com\" <business.int2025...   \n",
       "\n",
       "                              Date  \\\n",
       "0  Fri, 11 Apr 2025 10:57:28 +0200   \n",
       "1  Fri, 11 Apr 2025 10:59:05 +0200   \n",
       "2  Fri, 11 Apr 2025 13:39:32 +0200   \n",
       "\n",
       "                                                Body  \\\n",
       "0  Hi there,\\n\\nThis is a test email. Please disr...   \n",
       "1  Hey you,\\n\\nI hope you're doing well. I just w...   \n",
       "2                                                 \\n   \n",
       "\n",
       "                         Attachments  \n",
       "0                                 []  \n",
       "1                                 []  \n",
       "2  [{'filename': 'screen_time.csv'}]  "
      ]
     },
     "execution_count": 480,
     "metadata": {},
     "output_type": "execute_result"
    }
   ],
   "source": [
    "# View first few rows\n",
    "df.head()"
   ]
  },
  {
   "cell_type": "code",
   "execution_count": 481,
   "id": "1c3873cc",
   "metadata": {},
   "outputs": [
    {
     "name": "stdout",
     "output_type": "stream",
     "text": [
      "<class 'pandas.core.frame.DataFrame'>\n",
      "RangeIndex: 3 entries, 0 to 2\n",
      "Data columns (total 6 columns):\n",
      " #   Column       Non-Null Count  Dtype \n",
      "---  ------       --------------  ----- \n",
      " 0   Subject      3 non-null      object\n",
      " 1   From         3 non-null      object\n",
      " 2   To           3 non-null      object\n",
      " 3   Date         3 non-null      object\n",
      " 4   Body         3 non-null      object\n",
      " 5   Attachments  3 non-null      object\n",
      "dtypes: object(6)\n",
      "memory usage: 276.0+ bytes\n"
     ]
    }
   ],
   "source": [
    "# Check basic info\n",
    "df.info()"
   ]
  },
  {
   "cell_type": "code",
   "execution_count": 482,
   "id": "953d0c2f",
   "metadata": {},
   "outputs": [
    {
     "data": {
      "text/plain": [
       "Subject        0\n",
       "From           0\n",
       "To             0\n",
       "Date           0\n",
       "Body           0\n",
       "Attachments    0\n",
       "dtype: int64"
      ]
     },
     "execution_count": 482,
     "metadata": {},
     "output_type": "execute_result"
    }
   ],
   "source": [
    "# Check for missing values\n",
    "df.isna().sum()"
   ]
  },
  {
   "cell_type": "markdown",
   "id": "b4bc1dc4",
   "metadata": {},
   "source": [
    "#### Cleaning the data"
   ]
  },
  {
   "cell_type": "markdown",
   "id": "c0cd77a8",
   "metadata": {},
   "source": [
    "###### Handle unwanted spaces"
   ]
  },
  {
   "cell_type": "code",
   "execution_count": 483,
   "id": "971e3277",
   "metadata": {},
   "outputs": [],
   "source": [
    "# Remove unwanted spaces or extra newlines just in case\n",
    "df['Body'] = df['Body'].str.strip()\n"
   ]
  },
  {
   "cell_type": "markdown",
   "id": "50ef7b02",
   "metadata": {},
   "source": [
    "###### Handle missing data"
   ]
  },
  {
   "cell_type": "code",
   "execution_count": 484,
   "id": "b04ddf14",
   "metadata": {},
   "outputs": [],
   "source": [
    "# Fill only when the 'Body' is NaN or is an empty string after stripping\n",
    "df['Body'] = df['Body'].apply(lambda x: 'No content' if pd.isna(x) or x == '' else x)\n",
    "\n",
    "#display(df)\n"
   ]
  },
  {
   "cell_type": "markdown",
   "id": "eb4f21dc",
   "metadata": {},
   "source": [
    "###### Ensure Date is formatted correctly"
   ]
  },
  {
   "cell_type": "code",
   "execution_count": 485,
   "id": "99ace372",
   "metadata": {},
   "outputs": [],
   "source": [
    "# Convert the 'Date' column to datetime and then format it\n",
    "df['Date'] = pd.to_datetime(df['Date'], errors='coerce')"
   ]
  },
  {
   "cell_type": "markdown",
   "id": "716b679e",
   "metadata": {},
   "source": [
    "### 4. Handle Anonymization"
   ]
  },
  {
   "cell_type": "markdown",
   "id": "a952d565",
   "metadata": {},
   "source": [
    "#### Anonymize the sender and receiver"
   ]
  },
  {
   "cell_type": "markdown",
   "id": "a54d5f5b",
   "metadata": {},
   "source": [
    "###### Function for finding first name of sender"
   ]
  },
  {
   "cell_type": "code",
   "execution_count": 486,
   "id": "0ffc4d69",
   "metadata": {},
   "outputs": [],
   "source": [
    "def extract_first_name(value):\n",
    "    if pd.isna(value) or not isinstance(value, str):\n",
    "        return 'Unknown'\n",
    "    \n",
    "    # If it's already just a single word assume it's a first name\n",
    "    if '@' not in value and len(value.split()) == 1:\n",
    "        return value.capitalize()\n",
    "    \n",
    "    # Check if value contains your email\n",
    "    if my_email and my_email.lower() in value.lower():\n",
    "        return 'Me'\n",
    "\n",
    "    # Try to extract name before the email\n",
    "    match = re.match(r'(?:\"?([^\"<]+)\"?\\s)?<?[\\w\\.-]+@[\\w\\.-]+>?', value)\n",
    "    if match:\n",
    "        full_name = match.group(1)\n",
    "        if full_name:\n",
    "            return full_name.strip().split()[0].capitalize()\n",
    "\n",
    "    # If no name match, fallback: extract from email before @\n",
    "    email_match = re.search(r'([\\w\\.-]+)@', value)\n",
    "    if email_match:\n",
    "        return email_match.group(1).split('.')[0].capitalize()\n",
    "\n",
    "    return 'Unknown'"
   ]
  },
  {
   "cell_type": "markdown",
   "id": "1f674fa3",
   "metadata": {},
   "source": [
    "###### Anonymize 'From' and 'To'"
   ]
  },
  {
   "cell_type": "code",
   "execution_count": 487,
   "id": "fda702c4",
   "metadata": {},
   "outputs": [
    {
     "data": {
      "text/html": [
       "<div>\n",
       "<style scoped>\n",
       "    .dataframe tbody tr th:only-of-type {\n",
       "        vertical-align: middle;\n",
       "    }\n",
       "\n",
       "    .dataframe tbody tr th {\n",
       "        vertical-align: top;\n",
       "    }\n",
       "\n",
       "    .dataframe thead th {\n",
       "        text-align: right;\n",
       "    }\n",
       "</style>\n",
       "<table border=\"1\" class=\"dataframe\">\n",
       "  <thead>\n",
       "    <tr style=\"text-align: right;\">\n",
       "      <th></th>\n",
       "      <th>Subject</th>\n",
       "      <th>From</th>\n",
       "      <th>To</th>\n",
       "      <th>Date</th>\n",
       "      <th>Body</th>\n",
       "      <th>Attachments</th>\n",
       "    </tr>\n",
       "  </thead>\n",
       "  <tbody>\n",
       "    <tr>\n",
       "      <th>0</th>\n",
       "      <td>Test email</td>\n",
       "      <td>Orniliya</td>\n",
       "      <td>Me</td>\n",
       "      <td>2025-04-11 10:57:28+02:00</td>\n",
       "      <td>Hi there,\\n\\nThis is a test email. Please disr...</td>\n",
       "      <td>[]</td>\n",
       "    </tr>\n",
       "    <tr>\n",
       "      <th>1</th>\n",
       "      <td>Quick Check-In</td>\n",
       "      <td>Orniliya</td>\n",
       "      <td>Me</td>\n",
       "      <td>2025-04-11 10:59:05+02:00</td>\n",
       "      <td>Hey you,\\n\\nI hope you're doing well. I just w...</td>\n",
       "      <td>[]</td>\n",
       "    </tr>\n",
       "    <tr>\n",
       "      <th>2</th>\n",
       "      <td>Dataset for screen time</td>\n",
       "      <td>Orniliya</td>\n",
       "      <td>Me</td>\n",
       "      <td>2025-04-11 13:39:32+02:00</td>\n",
       "      <td>No content</td>\n",
       "      <td>[{'filename': 'screen_time.csv'}]</td>\n",
       "    </tr>\n",
       "  </tbody>\n",
       "</table>\n",
       "</div>"
      ],
      "text/plain": [
       "                   Subject      From  To                      Date  \\\n",
       "0               Test email  Orniliya  Me 2025-04-11 10:57:28+02:00   \n",
       "1           Quick Check-In  Orniliya  Me 2025-04-11 10:59:05+02:00   \n",
       "2  Dataset for screen time  Orniliya  Me 2025-04-11 13:39:32+02:00   \n",
       "\n",
       "                                                Body  \\\n",
       "0  Hi there,\\n\\nThis is a test email. Please disr...   \n",
       "1  Hey you,\\n\\nI hope you're doing well. I just w...   \n",
       "2                                         No content   \n",
       "\n",
       "                         Attachments  \n",
       "0                                 []  \n",
       "1                                 []  \n",
       "2  [{'filename': 'screen_time.csv'}]  "
      ]
     },
     "metadata": {},
     "output_type": "display_data"
    }
   ],
   "source": [
    "# Anonymize sender\n",
    "df['From'] = df['From'].apply(extract_first_name)\n",
    "# Anonymize receiver\n",
    "df['To'] = df['To'].apply(extract_first_name)\n",
    "\n",
    "display(df.head())"
   ]
  },
  {
   "cell_type": "markdown",
   "id": "0c1e2d40",
   "metadata": {},
   "source": [
    "### 5. Apply Vizualisation"
   ]
  },
  {
   "cell_type": "markdown",
   "id": "bc3c46c8",
   "metadata": {},
   "source": [
    "#### Visualize the distribution of email senders"
   ]
  },
  {
   "cell_type": "code",
   "execution_count": 488,
   "id": "293ec2c3",
   "metadata": {},
   "outputs": [
    {
     "data": {
      "image/png": "[encoded data removed]",
      "text/plain": [
       "<Figure size 1200x600 with 1 Axes>"
      ]
     },
     "metadata": {},
     "output_type": "display_data"
    }
   ],
   "source": [
    "# Count the number of emails from each sender\n",
    "sender_counts = df['From'].value_counts()\n",
    "\n",
    "# Plot the distribution of emails sent by each sender (top 10 senders)\n",
    "plt.figure(figsize=(12, 6))\n",
    "sender_counts.head(10).plot(kind='barh', color='green')\n",
    "plt.title('Top 10 Senders by Email Count', fontsize=16)\n",
    "plt.xlabel('Number of Emails', fontsize=12)\n",
    "plt.ylabel('Sender', fontsize=12)\n",
    "\n",
    "# Show only whole numbers on the x-axis\n",
    "plt.gca().xaxis.set_major_locator(ticker.MaxNLocator(integer=True))\n",
    "\n",
    "plt.show()"
   ]
  },
  {
   "cell_type": "markdown",
   "id": "34ed03d7",
   "metadata": {},
   "source": [
    "The above horizontal bar graph ranks the top 10 senders by the amount of emails sent to the receiver - It puts the senders with the most sent emails at the top.\n",
    "\n",
    "The Y-axis shows the first name of the sender, since the full detail of the sender has been anonymized.\n",
    "\n",
    "The X-axis shows the number of emails sent and only displayed as whole numbers on the axis.\n",
    "\n",
    "This gives us a quick visual comparison of who contributes the most to the volume of emails in our inbox and could help us with things, such as: <br>\n",
    "    &nbsp; *1.* Identifying potential spam/notification sources <br>\n",
    "    &nbsp; *2.* Revealing the main email correspondents <br>\n",
    "    &nbsp; *3.* Prioritizing whose email to check first"
   ]
  },
  {
   "cell_type": "markdown",
   "id": "86939ad5",
   "metadata": {},
   "source": [
    "#### Visualize frequency of emails by date"
   ]
  },
  {
   "cell_type": "code",
   "execution_count": null,
   "id": "79ef4fad",
   "metadata": {},
   "outputs": [
    {
     "data": {
      "image/png": "[encoded data removed]",
      "text/plain": [
       "<Figure size 1200x600 with 1 Axes>"
      ]
     },
     "metadata": {},
     "output_type": "display_data"
    }
   ],
   "source": [
    "# Convert df['Date'] to naive (timezone-less) to avoid comparison issues\n",
    "df['Date'] = df['Date'].dt.tz_localize(None)\n",
    "\n",
    "# Get today's date and the start of this week (Monday)\n",
    "today = pd.Timestamp.today().normalize()\n",
    "start_of_week = today - pd.Timedelta(days=today.weekday())\n",
    "\n",
    "# Filter only emails from this week\n",
    "df_this_week = df[df['Date'] >= start_of_week]\n",
    "\n",
    "# Get date without time for daily counts\n",
    "df_this_week['Date_Only'] = df_this_week['Date'].dt.date\n",
    "\n",
    "# Count emails per day\n",
    "daily_email_count = df_this_week['Date_Only'].value_counts().sort_index()\n",
    "\n",
    "# Ensure all 7 days are present \n",
    "# Fill 0 for missing days\n",
    "week_dates = pd.date_range(start=start_of_week, periods=7).date\n",
    "daily_email_count = pd.Series([daily_email_count.get(day, 0) for day in week_dates], index=week_dates)\n",
    "\n",
    "# Plot number of emails per day\n",
    "plt.figure(figsize=(12, 6))\n",
    "plt.plot(daily_email_count.index, daily_email_count.values, marker='o', color='blue')\n",
    "plt.title('Number of Emails Received This Week', fontsize=16)\n",
    "plt.xlabel('Date', fontsize=12)\n",
    "plt.ylabel('Number of Emails', fontsize=12)\n",
    "plt.xticks(rotation=45)\n",
    "\n",
    "# Format x-axis to show dates nicely - Like \"Mon 08 Apr\"\n",
    "plt.gca().set_xticks(week_dates)\n",
    "plt.gca().set_xticklabels([day.strftime('%a %d %b') for day in week_dates])\n",
    "\n",
    "# Format y-axis to show whole numbers\n",
    "plt.gca().yaxis.set_major_locator(ticker.MaxNLocator(integer=True))\n",
    "\n",
    "plt.grid(True, linestyle='--', alpha=0.6)\n",
    "plt.tight_layout()\n",
    "\n",
    "plt.show()"
   ]
  },
  {
   "cell_type": "markdown",
   "id": "c3640ee1",
   "metadata": {},
   "source": [
    "The above line chart shows the amount of emails the recipent (our own email) receive each day of this current week.\n",
    "\n",
    "The X-axis shows days of the week from Monday to Sunday including the date and month.\n",
    "\n",
    "The Y-axis shows the number of emails received in whole numbers.\n",
    "\n",
    "The dots on the blue line represent the exact email count for the given day while the connecting lines between the dots shows the trend across the days.\n",
    "\n",
    "This gives us a quick visual comparison of what days are the busiest days in terms of receiving emails and could help us with things, such as: <br>\n",
    "    &nbsp; *1.* Identifying a weekly pattern of communication flow <br>\n",
    "    &nbsp; *2.* Revealing perhaps unexpected emails on weekends <br>\n",
    "    &nbsp; *3.* Planning when we need some email-reading time <br>"
   ]
  },
  {
   "cell_type": "markdown",
   "id": "53634d0b",
   "metadata": {},
   "source": [
    "#### Visualize the length of email body by sender"
   ]
  },
  {
   "cell_type": "code",
   "execution_count": 490,
   "id": "b7b95f16",
   "metadata": {},
   "outputs": [
    {
     "data": {
      "image/png": "[encoded data removed]",
      "text/plain": [
       "<Figure size 1200x600 with 1 Axes>"
      ]
     },
     "metadata": {},
     "output_type": "display_data"
    }
   ],
   "source": [
    "# Create a new column for Subject Length\n",
    "df['Body_Length'] = df['Body'].apply(len)\n",
    "\n",
    "# Group by sender and calculate average body length\n",
    "sender_avg_length = df.groupby('From')['Body_Length'].mean().sort_values(ascending=False)\n",
    "\n",
    "# Plot average body length by sender\n",
    "plt.figure(figsize=(12, 6))\n",
    "sender_avg_length.head(10).plot(kind='barh', color='lightcoral')\n",
    "plt.title('Top 10 Senders by Average Email Body Length', fontsize=16)\n",
    "plt.xlabel('Average Body Length (characters)', fontsize=12)\n",
    "plt.ylabel('Sender', fontsize=12)\n",
    "plt.grid(True, linestyle='--', alpha=0.6)\n",
    "plt.tight_layout()\n",
    "plt.show()"
   ]
  },
  {
   "cell_type": "markdown",
   "id": "f0871e3d",
   "metadata": {},
   "source": [
    "The above horizontal bar graph ranks the top 10 email senders based on who writes the longest emails on average - It puts the senders with the longest average emails at the top.\n",
    "\n",
    "The Y-axis shows the first name of the sender, since the full detail of the sender has been anonymized.\n",
    "\n",
    "The X-axis shows the average number of characters in their emails.\n",
    "\n",
    "This gives us a quick visual comparison of email length habits across different senders and could help us with things, such as: <br>\n",
    "    &nbsp; *1.* Prioritizing whose emails need more/less reading time <br>\n",
    "    &nbsp; *2.* Identifying who sends the most long-winded messages"
   ]
  }
 ],
 "metadata": {
  "kernelspec": {
   "display_name": "Python 3",
   "language": "python",
   "name": "python3"
  },
  "language_info": {
   "codemirror_mode": {
    "name": "ipython",
    "version": 3
   },
   "file_extension": ".py",
   "mimetype": "text/x-python",
   "name": "python",
   "nbconvert_exporter": "python",
   "pygments_lexer": "ipython3",
   "version": "3.12.6"
  }
 },
 "nbformat": 4,
 "nbformat_minor": 5
}
