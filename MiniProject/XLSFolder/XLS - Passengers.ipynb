{
 "cells": [
  {
   "cell_type": "markdown",
   "id": "578b8ad4-1aad-44e3-8fe4-929d7adb6ebe",
   "metadata": {},
   "source": [
    "## Intro\n",
    "In this assigment, I work with an Excel file containing passenger statistics from Copenhagen Airport (CPH) for January 2025. The goal is to simulate a simple ETL (Extract, Transform, Load) process and analyze the data using Python"
   ]
  },
  {
   "cell_type": "markdown",
   "id": "5dc4d5c3-599f-49d2-b30e-3279e9191985",
   "metadata": {},
   "source": [
    "### Loade the data"
   ]
  },
  {
   "cell_type": "code",
   "execution_count": 190,
   "id": "9a134046-ba13-4563-983a-3cdcae85f921",
   "metadata": {},
   "outputs": [],
   "source": [
    "import pandas as pd"
   ]
  },
  {
   "cell_type": "code",
   "execution_count": 192,
   "id": "9751efe1-6290-45a0-92eb-e3079b4e92d8",
   "metadata": {},
   "outputs": [],
   "source": [
    "def load_xls_data(filepath):\n",
    "    df = pd.read_excel(filepath, header = 0)\n",
    "    return df"
   ]
  },
  {
   "cell_type": "code",
   "execution_count": 194,
   "id": "e3afc92e-b059-4df1-8369-bcd2e013a86d",
   "metadata": {},
   "outputs": [],
   "source": [
    "data = load_xls_data(r\"C:\\Users\\rebec\\OneDrive\\Dokumenter\\CPH.buisness\\4_Semester\\BI\\MiniProject\\2025_jan_traffic.xlsx\")"
   ]
  },
  {
   "cell_type": "code",
   "execution_count": 196,
   "id": "ce266594-e09d-466c-b013-1c111d983028",
   "metadata": {},
   "outputs": [
    {
     "data": {
      "text/plain": [
       "Category             object\n",
       "Region               object\n",
       "Arrival_Total         int64\n",
       "Arrival_Local         int64\n",
       "Arrival_TrfTrs        int64\n",
       "Departure_Total       int64\n",
       "Departure_Local     float64\n",
       "Departure_TrfTrs    float64\n",
       "Total                 int64\n",
       "dtype: object"
      ]
     },
     "execution_count": 196,
     "metadata": {},
     "output_type": "execute_result"
    }
   ],
   "source": [
    "data.dtypes"
   ]
  },
  {
   "cell_type": "markdown",
   "id": "2f1907b5-c3de-4351-be17-b7ef47630ece",
   "metadata": {},
   "source": [
    "### Remove missing data - Depature_Local and Depature_TrfTrs"
   ]
  },
  {
   "cell_type": "code",
   "execution_count": 199,
   "id": "67853f3a-8f79-42af-be63-3be2c3bc47dc",
   "metadata": {},
   "outputs": [
    {
     "data": {
      "text/plain": [
       "Category             0\n",
       "Region               0\n",
       "Arrival_Total        0\n",
       "Arrival_Local        0\n",
       "Arrival_TrfTrs       0\n",
       "Departure_Total      0\n",
       "Departure_Local     12\n",
       "Departure_TrfTrs    12\n",
       "Total                0\n",
       "dtype: int64"
      ]
     },
     "execution_count": 199,
     "metadata": {},
     "output_type": "execute_result"
    }
   ],
   "source": [
    "data.isna().sum()"
   ]
  },
  {
   "cell_type": "code",
   "execution_count": 201,
   "id": "f1b5c768-e524-457f-b216-080d2c4eade5",
   "metadata": {},
   "outputs": [],
   "source": [
    "data_new = df.drop(columns=[\"Departure_Local\", \"Departure_TrfTrs\"])"
   ]
  },
  {
   "cell_type": "code",
   "execution_count": 222,
   "id": "d9ec5f9c-bfab-42ea-b49c-37aa75711bc2",
   "metadata": {
    "scrolled": true
   },
   "outputs": [
    {
     "data": {
      "text/html": [
       "<div>\n",
       "<style scoped>\n",
       "    .dataframe tbody tr th:only-of-type {\n",
       "        vertical-align: middle;\n",
       "    }\n",
       "\n",
       "    .dataframe tbody tr th {\n",
       "        vertical-align: top;\n",
       "    }\n",
       "\n",
       "    .dataframe thead th {\n",
       "        text-align: right;\n",
       "    }\n",
       "</style>\n",
       "<table border=\"1\" class=\"dataframe\">\n",
       "  <thead>\n",
       "    <tr style=\"text-align: right;\">\n",
       "      <th></th>\n",
       "      <th>Category</th>\n",
       "      <th>Region</th>\n",
       "      <th>Arrival_Total</th>\n",
       "      <th>Arrival_Local</th>\n",
       "      <th>Arrival_TrfTrs</th>\n",
       "      <th>Departure_Total</th>\n",
       "      <th>Total</th>\n",
       "    </tr>\n",
       "  </thead>\n",
       "  <tbody>\n",
       "    <tr>\n",
       "      <th>0</th>\n",
       "      <td>Scheduled Traffic</td>\n",
       "      <td>Denmark</td>\n",
       "      <td>38150</td>\n",
       "      <td>26764</td>\n",
       "      <td>10225</td>\n",
       "      <td>36989</td>\n",
       "      <td>75139</td>\n",
       "    </tr>\n",
       "    <tr>\n",
       "      <th>1</th>\n",
       "      <td>Scheduled Traffic</td>\n",
       "      <td>Europe</td>\n",
       "      <td>777650</td>\n",
       "      <td>579010</td>\n",
       "      <td>148207</td>\n",
       "      <td>727217</td>\n",
       "      <td>1504867</td>\n",
       "    </tr>\n",
       "    <tr>\n",
       "      <th>2</th>\n",
       "      <td>Scheduled Traffic</td>\n",
       "      <td>Intercontinental</td>\n",
       "      <td>140093</td>\n",
       "      <td>98463</td>\n",
       "      <td>42530</td>\n",
       "      <td>140993</td>\n",
       "      <td>281086</td>\n",
       "    </tr>\n",
       "    <tr>\n",
       "      <th>3</th>\n",
       "      <td>Scheduled Traffic</td>\n",
       "      <td>Total</td>\n",
       "      <td>955893</td>\n",
       "      <td>704237</td>\n",
       "      <td>200962</td>\n",
       "      <td>905199</td>\n",
       "      <td>1861092</td>\n",
       "    </tr>\n",
       "    <tr>\n",
       "      <th>4</th>\n",
       "      <td>Charter Traffic</td>\n",
       "      <td>Denmark</td>\n",
       "      <td>2948</td>\n",
       "      <td>1113</td>\n",
       "      <td>0</td>\n",
       "      <td>1113</td>\n",
       "      <td>4061</td>\n",
       "    </tr>\n",
       "    <tr>\n",
       "      <th>5</th>\n",
       "      <td>Charter Traffic</td>\n",
       "      <td>Europe</td>\n",
       "      <td>31703</td>\n",
       "      <td>32456</td>\n",
       "      <td>445</td>\n",
       "      <td>32901</td>\n",
       "      <td>64604</td>\n",
       "    </tr>\n",
       "    <tr>\n",
       "      <th>6</th>\n",
       "      <td>Charter Traffic</td>\n",
       "      <td>Intercontinental</td>\n",
       "      <td>9532</td>\n",
       "      <td>11212</td>\n",
       "      <td>1109</td>\n",
       "      <td>12321</td>\n",
       "      <td>21853</td>\n",
       "    </tr>\n",
       "    <tr>\n",
       "      <th>7</th>\n",
       "      <td>Charter Traffic</td>\n",
       "      <td>Total</td>\n",
       "      <td>44183</td>\n",
       "      <td>44781</td>\n",
       "      <td>1554</td>\n",
       "      <td>46335</td>\n",
       "      <td>90518</td>\n",
       "    </tr>\n",
       "    <tr>\n",
       "      <th>8</th>\n",
       "      <td>Grand Total</td>\n",
       "      <td>Denmark</td>\n",
       "      <td>41098</td>\n",
       "      <td>27877</td>\n",
       "      <td>10225</td>\n",
       "      <td>38102</td>\n",
       "      <td>79200</td>\n",
       "    </tr>\n",
       "    <tr>\n",
       "      <th>9</th>\n",
       "      <td>Grand Total</td>\n",
       "      <td>Europe</td>\n",
       "      <td>809353</td>\n",
       "      <td>611466</td>\n",
       "      <td>148652</td>\n",
       "      <td>760118</td>\n",
       "      <td>1569471</td>\n",
       "    </tr>\n",
       "    <tr>\n",
       "      <th>10</th>\n",
       "      <td>Grand Total</td>\n",
       "      <td>Intercontinental</td>\n",
       "      <td>149625</td>\n",
       "      <td>109675</td>\n",
       "      <td>43639</td>\n",
       "      <td>153314</td>\n",
       "      <td>302939</td>\n",
       "    </tr>\n",
       "    <tr>\n",
       "      <th>11</th>\n",
       "      <td>Grand Total</td>\n",
       "      <td>Total</td>\n",
       "      <td>1000076</td>\n",
       "      <td>749018</td>\n",
       "      <td>202516</td>\n",
       "      <td>951534</td>\n",
       "      <td>1951610</td>\n",
       "    </tr>\n",
       "  </tbody>\n",
       "</table>\n",
       "</div>"
      ],
      "text/plain": [
       "             Category            Region  Arrival_Total  Arrival_Local  \\\n",
       "0   Scheduled Traffic           Denmark          38150          26764   \n",
       "1   Scheduled Traffic            Europe         777650         579010   \n",
       "2   Scheduled Traffic  Intercontinental         140093          98463   \n",
       "3   Scheduled Traffic             Total         955893         704237   \n",
       "4     Charter Traffic           Denmark           2948           1113   \n",
       "5     Charter Traffic            Europe          31703          32456   \n",
       "6     Charter Traffic  Intercontinental           9532          11212   \n",
       "7     Charter Traffic             Total          44183          44781   \n",
       "8         Grand Total           Denmark          41098          27877   \n",
       "9         Grand Total            Europe         809353         611466   \n",
       "10        Grand Total  Intercontinental         149625         109675   \n",
       "11        Grand Total             Total        1000076         749018   \n",
       "\n",
       "    Arrival_TrfTrs  Departure_Total    Total  \n",
       "0            10225            36989    75139  \n",
       "1           148207           727217  1504867  \n",
       "2            42530           140993   281086  \n",
       "3           200962           905199  1861092  \n",
       "4                0             1113     4061  \n",
       "5              445            32901    64604  \n",
       "6             1109            12321    21853  \n",
       "7             1554            46335    90518  \n",
       "8            10225            38102    79200  \n",
       "9           148652           760118  1569471  \n",
       "10           43639           153314   302939  \n",
       "11          202516           951534  1951610  "
      ]
     },
     "execution_count": 222,
     "metadata": {},
     "output_type": "execute_result"
    }
   ],
   "source": [
    "data_new"
   ]
  },
  {
   "cell_type": "markdown",
   "id": "172de26d-504c-4da1-8c8a-979f7c927096",
   "metadata": {},
   "source": [
    "### Anonymisation\n",
    "This data do not need anonymisation, because the passengers are all based on numbers, and hare anonymouse. "
   ]
  },
  {
   "cell_type": "markdown",
   "id": "7d3ed89c-320a-4fa9-a781-bb197dc1baa5",
   "metadata": {},
   "source": [
    "### Total passengers by region"
   ]
  },
  {
   "cell_type": "code",
   "execution_count": 388,
   "id": "e1abcf92-3e88-4abb-9677-eadea0c5aa73",
   "metadata": {},
   "outputs": [],
   "source": [
    "def total_passengersum_by_region(dataset):\n",
    "    totals = ddataset.groupby(\"Region\")[\"Total\"].sum()\n",
    "  \n",
    "    print(\"Total passengers by region:\")\n",
    "    print(totals)"
   ]
  },
  {
   "cell_type": "code",
   "execution_count": 248,
   "id": "2f94a73d-6f23-475f-aeb6-8bf387d41f5b",
   "metadata": {},
   "outputs": [
    {
     "name": "stdout",
     "output_type": "stream",
     "text": [
      "Total passengers by region:\n",
      "Region\n",
      "Denmark              158400\n",
      "Europe              3138942\n",
      "Intercontinental     605878\n",
      "Total               3903220\n",
      "Name: Total, dtype: int64\n"
     ]
    }
   ],
   "source": [
    "total_passengers = total_passengersum_by_region(data_new)"
   ]
  },
  {
   "cell_type": "markdown",
   "id": "3679f444-65c4-4c6b-830c-5719827c7afc",
   "metadata": {},
   "source": [
    "### Total passengers by category - Scheduled Traffic and Charter Traffic"
   ]
  },
  {
   "cell_type": "code",
   "execution_count": 345,
   "id": "d3e0f976-89c9-492c-9a01-f55dfb4ab815",
   "metadata": {},
   "outputs": [],
   "source": [
    "def passenger_total_by_category(dataset):\n",
    "    filtered = dataset[(dataset[\"Category\"] != \"Grand Total\") & (dataset[\"Region\"] != \"Total\")]\n",
    "    totals = filtered.groupby(\"Category\")[\"Total\"].sum()\n",
    "    print(\"Total passengers by category:\\n\")\n",
    "    print(totals)"
   ]
  },
  {
   "cell_type": "code",
   "execution_count": 347,
   "id": "cd8ea124-3a16-4bdc-919c-e737c61423d5",
   "metadata": {},
   "outputs": [
    {
     "name": "stdout",
     "output_type": "stream",
     "text": [
      "Total passengers by category:\n",
      "\n",
      "Category\n",
      "Charter Traffic        90518\n",
      "Scheduled Traffic    1861092\n",
      "Name: Total, dtype: int64\n"
     ]
    }
   ],
   "source": [
    " passenger_total_by_category(data_new)"
   ]
  },
  {
   "cell_type": "markdown",
   "id": "12b3b769-6c15-47e1-ab07-d01ed62fee4e",
   "metadata": {},
   "source": [
    "### Top category with most passengers"
   ]
  },
  {
   "cell_type": "code",
   "execution_count": 366,
   "id": "200bfdf2-94be-4bdb-8a0c-899195f46d9c",
   "metadata": {},
   "outputs": [],
   "source": [
    "def top_category(dataset):\n",
    "    filtered = dataset[(dataset[\"Category\"] != \"Grand Total\")]\n",
    "    totals = filtered.groupby(\"Category\")[\"Total\"].sum()\n",
    "    top = totals.idxmax()\n",
    "    value = totals.max()\n",
    "    print(f\"The top category is {top} with {value} passengers.\")"
   ]
  },
  {
   "cell_type": "code",
   "execution_count": 368,
   "id": "e6ae8d2f-14a9-486f-82b1-956b7592e5f7",
   "metadata": {},
   "outputs": [
    {
     "name": "stdout",
     "output_type": "stream",
     "text": [
      "The top category is Scheduled Traffic with 3722184 passengers.\n"
     ]
    }
   ],
   "source": [
    "top_category(data_new)"
   ]
  },
  {
   "cell_type": "markdown",
   "id": "8bb1cd26-f927-4ea8-a5db-c29a1c810f68",
   "metadata": {},
   "source": [
    "### Top region with most passengers"
   ]
  },
  {
   "cell_type": "code",
   "execution_count": 374,
   "id": "0fc163bf-1117-4991-8310-3f6e1328d68f",
   "metadata": {},
   "outputs": [],
   "source": [
    "def show_top_region(dataset):\n",
    "    filtered = dataset[dataset[\"Region\"] != \"Total\"]\n",
    "    totals = filtered.groupby(\"Region\")[\"Total\"].sum()\n",
    "    top_region = totals.idxmax()\n",
    "    top_value = totals.max()\n",
    "    \n",
    "    print(f\"The region with the most passengers is {top_region} with {top_value} passengers.\")"
   ]
  },
  {
   "cell_type": "code",
   "execution_count": 376,
   "id": "53b622a4-1edc-41a1-91a7-73baeb7e6bde",
   "metadata": {},
   "outputs": [
    {
     "name": "stdout",
     "output_type": "stream",
     "text": [
      "The region with the most passengers is Europe with 3138942 passengers.\n"
     ]
    }
   ],
   "source": [
    "show_top_region(data_new)"
   ]
  },
  {
   "cell_type": "markdown",
   "id": "fee79355-29e5-4302-a1e1-2f0c0ba10a51",
   "metadata": {},
   "source": [
    "### Total Arrival vs Departure \n",
    "How many passengers arrived vs. departed"
   ]
  },
  {
   "cell_type": "code",
   "execution_count": 379,
   "id": "0535208d-768e-4c76-9452-df3053a1e68d",
   "metadata": {},
   "outputs": [],
   "source": [
    "def show_arrival_vs_departure(dataset):\n",
    "    arrival = dataset[\"Arrival_Total\"].sum()\n",
    "    departure = dataset[\"Departure_Total\"].sum()\n",
    "    print(f\"Total Arrivals: {arrival}\")\n",
    "    print(f\"Total Departures: {departure}\")"
   ]
  },
  {
   "cell_type": "code",
   "execution_count": 381,
   "id": "cde4e731-ccfc-41d0-8052-5bbebd09b9ed",
   "metadata": {},
   "outputs": [
    {
     "name": "stdout",
     "output_type": "stream",
     "text": [
      "Total Arrivals: 4000304\n",
      "Total Departures: 3806136\n"
     ]
    }
   ],
   "source": [
    "show_arrival_vs_departure(data_new)"
   ]
  },
  {
   "cell_type": "markdown",
   "id": "6ab2511a-95b6-4a98-865e-89d70af7f258",
   "metadata": {},
   "source": [
    "### Most popular travel type"
   ]
  },
  {
   "cell_type": "code",
   "execution_count": 384,
   "id": "22c54133-add1-44cd-a46b-ee004fdb3df7",
   "metadata": {},
   "outputs": [],
   "source": [
    "def most_popular_travel_type(dataset):\n",
    "    total_arrivals = dataset[\"Arrival_Total\"].sum()\n",
    "    total_departures = dataset[\"Departure_Total\"].sum()\n",
    "\n",
    "    if total_arrivals > total_departures:\n",
    "        print(f\"Arrival was more popular with {total_arrivals} passengers.\")\n",
    "    elif total_departures > total_arrivals:\n",
    "        print(f\"Departure was more popular with {total_departures} passengers.\")\n",
    "    else:\n",
    "        print(f\"Arrival and Departure had the same number of passengers: {total_arrivals}.\")"
   ]
  },
  {
   "cell_type": "code",
   "execution_count": 386,
   "id": "82c7ef93-fcdd-4e63-89c2-a19d130cd0e3",
   "metadata": {},
   "outputs": [
    {
     "name": "stdout",
     "output_type": "stream",
     "text": [
      "Arrival was more popular with 4000304 passengers.\n"
     ]
    }
   ],
   "source": [
    "most_popular_travel_type (data_new)"
   ]
  }
 ],
 "metadata": {
  "kernelspec": {
   "display_name": "Python [conda env:base] *",
   "language": "python",
   "name": "conda-base-py"
  },
  "language_info": {
   "codemirror_mode": {
    "name": "ipython",
    "version": 3
   },
   "file_extension": ".py",
   "mimetype": "text/x-python",
   "name": "python",
   "nbconvert_exporter": "python",
   "pygments_lexer": "ipython3",
   "version": "3.12.7"
  }
 },
 "nbformat": 4,
 "nbformat_minor": 5
}
