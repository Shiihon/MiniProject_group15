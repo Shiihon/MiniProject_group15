{
 "cells": [
  {
   "cell_type": "markdown",
   "id": "d0a79c3f",
   "metadata": {},
   "source": [
    "## Data from . csv files. \n",
    "#### Predicting if a pokemon is legendary or not, depending on various values from the dataset.\n",
    "### Nadia H "
   ]
  },
  {
   "cell_type": "code",
   "execution_count": 6,
   "id": "1c91a2eb",
   "metadata": {},
   "outputs": [],
   "source": [
    "# Imports\n",
    "# Pandas for structuring the data\n",
    "import pandas as pd\n",
    "\n",
    "# numpy for numerical analysis\n",
    "import numpy as np\n",
    "\n",
    "# matplotlib for diagrams inline with text\n",
    "import matplotlib.pyplot as plt\n",
    "%matplotlib inline \n",
    "\n",
    "#for generating random numbers\n",
    "import random\n",
    "\n",
    "# the most important library for machine learning algorithms\n",
    "from sklearn import datasets, svm, tree, preprocessing, metrics\n"
   ]
  },
  {
   "cell_type": "markdown",
   "id": "8ce4a2a3",
   "metadata": {},
   "source": [
    "### Getting the data"
   ]
  },
  {
   "cell_type": "code",
   "execution_count": 34,
   "id": "9c7e87d2",
   "metadata": {},
   "outputs": [],
   "source": [
    "# read the file into a pandas dataframe\n",
    "df = pd.read_csv(r'C:\\Users\\nadia\\OneDrive\\Skrivebord\\School\\4.semester\\BI\\Data\\archive\\all_pokemon_data.csv', index_col=None, na_values=['NA', 'N/A', 'NULL'])"
   ]
  },
  {
   "cell_type": "code",
   "execution_count": 35,
   "id": "341dfd88",
   "metadata": {},
   "outputs": [
    {
     "data": {
      "text/plain": [
       "(1184, 24)"
      ]
     },
     "execution_count": 35,
     "metadata": {},
     "output_type": "execute_result"
    }
   ],
   "source": [
    "# see the size\n",
    "df.shape"
   ]
  },
  {
   "cell_type": "code",
   "execution_count": 36,
   "id": "7d540776",
   "metadata": {},
   "outputs": [
    {
     "data": {
      "text/plain": [
       "['Name',\n",
       " 'National Dex #',\n",
       " 'Primary Typing',\n",
       " 'Secondary Typing',\n",
       " 'Secondary Typing Flag',\n",
       " 'Generation',\n",
       " 'Legendary Status',\n",
       " 'Form',\n",
       " 'Alt Form Flag',\n",
       " 'Evolution Stage',\n",
       " 'Number of Evolution',\n",
       " 'Color ID',\n",
       " 'Catch Rate',\n",
       " 'Height (dm)',\n",
       " 'Weight (hg)',\n",
       " 'Height (in)',\n",
       " 'Weight (lbs)',\n",
       " 'Base Stat Total',\n",
       " 'Health',\n",
       " 'Attack',\n",
       " 'Defense',\n",
       " 'Special Attack',\n",
       " 'Special Defense',\n",
       " 'Speed']"
      ]
     },
     "execution_count": 36,
     "metadata": {},
     "output_type": "execute_result"
    }
   ],
   "source": [
    "# see the different attribute labels \n",
    "list(df)"
   ]
  },
  {
   "cell_type": "code",
   "execution_count": 37,
   "id": "da4a83b8",
   "metadata": {},
   "outputs": [
    {
     "name": "stdout",
     "output_type": "stream",
     "text": [
      "<class 'pandas.core.frame.DataFrame'>\n",
      "RangeIndex: 1184 entries, 0 to 1183\n",
      "Data columns (total 24 columns):\n",
      " #   Column                 Non-Null Count  Dtype \n",
      "---  ------                 --------------  ----- \n",
      " 0   Name                   1184 non-null   object\n",
      " 1   National Dex #         1184 non-null   int64 \n",
      " 2   Primary Typing         1184 non-null   object\n",
      " 3   Secondary Typing       654 non-null    object\n",
      " 4   Secondary Typing Flag  1184 non-null   bool  \n",
      " 5   Generation             1184 non-null   object\n",
      " 6   Legendary Status       1184 non-null   bool  \n",
      " 7   Form                   1184 non-null   object\n",
      " 8   Alt Form Flag          1184 non-null   bool  \n",
      " 9   Evolution Stage        1184 non-null   int64 \n",
      " 10  Number of Evolution    1184 non-null   int64 \n",
      " 11  Color ID               1184 non-null   object\n",
      " 12  Catch Rate             1184 non-null   int64 \n",
      " 13  Height (dm)            1184 non-null   int64 \n",
      " 14  Weight (hg)            1184 non-null   int64 \n",
      " 15  Height (in)            1184 non-null   int64 \n",
      " 16  Weight (lbs)           1184 non-null   int64 \n",
      " 17  Base Stat Total        1184 non-null   int64 \n",
      " 18  Health                 1184 non-null   int64 \n",
      " 19  Attack                 1184 non-null   int64 \n",
      " 20  Defense                1184 non-null   int64 \n",
      " 21  Special Attack         1184 non-null   int64 \n",
      " 22  Special Defense        1184 non-null   int64 \n",
      " 23  Speed                  1184 non-null   int64 \n",
      "dtypes: bool(3), int64(15), object(6)\n",
      "memory usage: 197.8+ KB\n"
     ]
    }
   ],
   "source": [
    "# Getting an overview\n",
    "df.info()"
   ]
  },
  {
   "cell_type": "code",
   "execution_count": 38,
   "id": "0ac4ef85",
   "metadata": {},
   "outputs": [
    {
     "data": {
      "text/html": [
       "<div>\n",
       "<style scoped>\n",
       "    .dataframe tbody tr th:only-of-type {\n",
       "        vertical-align: middle;\n",
       "    }\n",
       "\n",
       "    .dataframe tbody tr th {\n",
       "        vertical-align: top;\n",
       "    }\n",
       "\n",
       "    .dataframe thead th {\n",
       "        text-align: right;\n",
       "    }\n",
       "</style>\n",
       "<table border=\"1\" class=\"dataframe\">\n",
       "  <thead>\n",
       "    <tr style=\"text-align: right;\">\n",
       "      <th></th>\n",
       "      <th>Name</th>\n",
       "      <th>National Dex #</th>\n",
       "      <th>Primary Typing</th>\n",
       "      <th>Secondary Typing</th>\n",
       "      <th>Secondary Typing Flag</th>\n",
       "      <th>Generation</th>\n",
       "      <th>Legendary Status</th>\n",
       "      <th>Form</th>\n",
       "      <th>Alt Form Flag</th>\n",
       "      <th>Evolution Stage</th>\n",
       "      <th>...</th>\n",
       "      <th>Weight (hg)</th>\n",
       "      <th>Height (in)</th>\n",
       "      <th>Weight (lbs)</th>\n",
       "      <th>Base Stat Total</th>\n",
       "      <th>Health</th>\n",
       "      <th>Attack</th>\n",
       "      <th>Defense</th>\n",
       "      <th>Special Attack</th>\n",
       "      <th>Special Defense</th>\n",
       "      <th>Speed</th>\n",
       "    </tr>\n",
       "  </thead>\n",
       "  <tbody>\n",
       "    <tr>\n",
       "      <th>0</th>\n",
       "      <td>bulbasaur</td>\n",
       "      <td>1</td>\n",
       "      <td>grass</td>\n",
       "      <td>poison</td>\n",
       "      <td>True</td>\n",
       "      <td>generation-i</td>\n",
       "      <td>False</td>\n",
       "      <td>Base</td>\n",
       "      <td>False</td>\n",
       "      <td>1</td>\n",
       "      <td>...</td>\n",
       "      <td>69</td>\n",
       "      <td>28</td>\n",
       "      <td>15</td>\n",
       "      <td>318</td>\n",
       "      <td>45</td>\n",
       "      <td>49</td>\n",
       "      <td>49</td>\n",
       "      <td>65</td>\n",
       "      <td>65</td>\n",
       "      <td>45</td>\n",
       "    </tr>\n",
       "    <tr>\n",
       "      <th>1</th>\n",
       "      <td>ivysaur</td>\n",
       "      <td>2</td>\n",
       "      <td>grass</td>\n",
       "      <td>poison</td>\n",
       "      <td>True</td>\n",
       "      <td>generation-i</td>\n",
       "      <td>False</td>\n",
       "      <td>Base</td>\n",
       "      <td>False</td>\n",
       "      <td>2</td>\n",
       "      <td>...</td>\n",
       "      <td>130</td>\n",
       "      <td>39</td>\n",
       "      <td>29</td>\n",
       "      <td>405</td>\n",
       "      <td>60</td>\n",
       "      <td>62</td>\n",
       "      <td>63</td>\n",
       "      <td>80</td>\n",
       "      <td>80</td>\n",
       "      <td>60</td>\n",
       "    </tr>\n",
       "    <tr>\n",
       "      <th>2</th>\n",
       "      <td>venusaur</td>\n",
       "      <td>3</td>\n",
       "      <td>grass</td>\n",
       "      <td>poison</td>\n",
       "      <td>True</td>\n",
       "      <td>generation-i</td>\n",
       "      <td>False</td>\n",
       "      <td>Base</td>\n",
       "      <td>False</td>\n",
       "      <td>3</td>\n",
       "      <td>...</td>\n",
       "      <td>1000</td>\n",
       "      <td>79</td>\n",
       "      <td>220</td>\n",
       "      <td>525</td>\n",
       "      <td>80</td>\n",
       "      <td>82</td>\n",
       "      <td>83</td>\n",
       "      <td>100</td>\n",
       "      <td>100</td>\n",
       "      <td>80</td>\n",
       "    </tr>\n",
       "    <tr>\n",
       "      <th>3</th>\n",
       "      <td>venusaur-mega</td>\n",
       "      <td>3</td>\n",
       "      <td>grass</td>\n",
       "      <td>poison</td>\n",
       "      <td>True</td>\n",
       "      <td>generation-i</td>\n",
       "      <td>True</td>\n",
       "      <td>Mega</td>\n",
       "      <td>True</td>\n",
       "      <td>3</td>\n",
       "      <td>...</td>\n",
       "      <td>1555</td>\n",
       "      <td>94</td>\n",
       "      <td>343</td>\n",
       "      <td>625</td>\n",
       "      <td>80</td>\n",
       "      <td>100</td>\n",
       "      <td>123</td>\n",
       "      <td>122</td>\n",
       "      <td>120</td>\n",
       "      <td>80</td>\n",
       "    </tr>\n",
       "    <tr>\n",
       "      <th>4</th>\n",
       "      <td>charmander</td>\n",
       "      <td>4</td>\n",
       "      <td>fire</td>\n",
       "      <td>NaN</td>\n",
       "      <td>False</td>\n",
       "      <td>generation-i</td>\n",
       "      <td>False</td>\n",
       "      <td>Base</td>\n",
       "      <td>False</td>\n",
       "      <td>1</td>\n",
       "      <td>...</td>\n",
       "      <td>85</td>\n",
       "      <td>24</td>\n",
       "      <td>19</td>\n",
       "      <td>309</td>\n",
       "      <td>39</td>\n",
       "      <td>52</td>\n",
       "      <td>43</td>\n",
       "      <td>60</td>\n",
       "      <td>50</td>\n",
       "      <td>65</td>\n",
       "    </tr>\n",
       "  </tbody>\n",
       "</table>\n",
       "<p>5 rows × 24 columns</p>\n",
       "</div>"
      ],
      "text/plain": [
       "            Name  National Dex # Primary Typing Secondary Typing  \\\n",
       "0      bulbasaur               1          grass           poison   \n",
       "1        ivysaur               2          grass           poison   \n",
       "2       venusaur               3          grass           poison   \n",
       "3  venusaur-mega               3          grass           poison   \n",
       "4     charmander               4           fire              NaN   \n",
       "\n",
       "   Secondary Typing Flag    Generation  Legendary Status  Form  Alt Form Flag  \\\n",
       "0                   True  generation-i             False  Base          False   \n",
       "1                   True  generation-i             False  Base          False   \n",
       "2                   True  generation-i             False  Base          False   \n",
       "3                   True  generation-i              True  Mega           True   \n",
       "4                  False  generation-i             False  Base          False   \n",
       "\n",
       "   Evolution Stage  ...  Weight (hg) Height (in)  Weight (lbs)  \\\n",
       "0                1  ...           69          28            15   \n",
       "1                2  ...          130          39            29   \n",
       "2                3  ...         1000          79           220   \n",
       "3                3  ...         1555          94           343   \n",
       "4                1  ...           85          24            19   \n",
       "\n",
       "   Base Stat Total  Health  Attack  Defense  Special Attack  Special Defense  \\\n",
       "0              318      45      49       49              65               65   \n",
       "1              405      60      62       63              80               80   \n",
       "2              525      80      82       83             100              100   \n",
       "3              625      80     100      123             122              120   \n",
       "4              309      39      52       43              60               50   \n",
       "\n",
       "   Speed  \n",
       "0     45  \n",
       "1     60  \n",
       "2     80  \n",
       "3     80  \n",
       "4     65  \n",
       "\n",
       "[5 rows x 24 columns]"
      ]
     },
     "execution_count": 38,
     "metadata": {},
     "output_type": "execute_result"
    }
   ],
   "source": [
    "# To see the first five records\n",
    "df.head()"
   ]
  },
  {
   "cell_type": "markdown",
   "id": "748d1c23",
   "metadata": {},
   "source": [
    "### Exploring the Data"
   ]
  },
  {
   "cell_type": "code",
   "execution_count": 41,
   "id": "ee57a8de",
   "metadata": {},
   "outputs": [
    {
     "data": {
      "text/plain": [
       "Name                     object\n",
       "National Dex #            int64\n",
       "Primary Typing           object\n",
       "Secondary Typing         object\n",
       "Secondary Typing Flag      bool\n",
       "Generation               object\n",
       "Legendary Status           bool\n",
       "Form                     object\n",
       "Alt Form Flag              bool\n",
       "Evolution Stage           int64\n",
       "Number of Evolution       int64\n",
       "Color ID                 object\n",
       "Catch Rate                int64\n",
       "Height (dm)               int64\n",
       "Weight (hg)               int64\n",
       "Height (in)               int64\n",
       "Weight (lbs)              int64\n",
       "Base Stat Total           int64\n",
       "Health                    int64\n",
       "Attack                    int64\n",
       "Defense                   int64\n",
       "Special Attack            int64\n",
       "Special Defense           int64\n",
       "Speed                     int64\n",
       "dtype: object"
      ]
     },
     "execution_count": 41,
     "metadata": {},
     "output_type": "execute_result"
    }
   ],
   "source": [
    "# See the types of attributes\n",
    "df.dtypes"
   ]
  },
  {
   "cell_type": "code",
   "execution_count": 42,
   "id": "da29c330",
   "metadata": {},
   "outputs": [
    {
     "data": {
      "text/html": [
       "<div>\n",
       "<style scoped>\n",
       "    .dataframe tbody tr th:only-of-type {\n",
       "        vertical-align: middle;\n",
       "    }\n",
       "\n",
       "    .dataframe tbody tr th {\n",
       "        vertical-align: top;\n",
       "    }\n",
       "\n",
       "    .dataframe thead th {\n",
       "        text-align: right;\n",
       "    }\n",
       "</style>\n",
       "<table border=\"1\" class=\"dataframe\">\n",
       "  <thead>\n",
       "    <tr style=\"text-align: right;\">\n",
       "      <th></th>\n",
       "      <th>National Dex #</th>\n",
       "      <th>Evolution Stage</th>\n",
       "      <th>Number of Evolution</th>\n",
       "      <th>Catch Rate</th>\n",
       "      <th>Height (dm)</th>\n",
       "      <th>Weight (hg)</th>\n",
       "      <th>Height (in)</th>\n",
       "      <th>Weight (lbs)</th>\n",
       "      <th>Base Stat Total</th>\n",
       "      <th>Health</th>\n",
       "      <th>Attack</th>\n",
       "      <th>Defense</th>\n",
       "      <th>Special Attack</th>\n",
       "      <th>Special Defense</th>\n",
       "      <th>Speed</th>\n",
       "    </tr>\n",
       "  </thead>\n",
       "  <tbody>\n",
       "    <tr>\n",
       "      <th>count</th>\n",
       "      <td>1184.000000</td>\n",
       "      <td>1184.000000</td>\n",
       "      <td>1184.000000</td>\n",
       "      <td>1184.000000</td>\n",
       "      <td>1184.000000</td>\n",
       "      <td>1184.000000</td>\n",
       "      <td>1184.000000</td>\n",
       "      <td>1184.000000</td>\n",
       "      <td>1184.000000</td>\n",
       "      <td>1184.000000</td>\n",
       "      <td>1184.000000</td>\n",
       "      <td>1184.000000</td>\n",
       "      <td>1184.000000</td>\n",
       "      <td>1184.000000</td>\n",
       "      <td>1184.000000</td>\n",
       "    </tr>\n",
       "    <tr>\n",
       "      <th>mean</th>\n",
       "      <td>494.978041</td>\n",
       "      <td>1.597128</td>\n",
       "      <td>2.108108</td>\n",
       "      <td>92.202703</td>\n",
       "      <td>12.829392</td>\n",
       "      <td>730.995777</td>\n",
       "      <td>50.535473</td>\n",
       "      <td>161.163851</td>\n",
       "      <td>441.633446</td>\n",
       "      <td>70.910473</td>\n",
       "      <td>80.989020</td>\n",
       "      <td>74.817568</td>\n",
       "      <td>72.922297</td>\n",
       "      <td>72.265203</td>\n",
       "      <td>69.728885</td>\n",
       "    </tr>\n",
       "    <tr>\n",
       "      <th>std</th>\n",
       "      <td>299.166288</td>\n",
       "      <td>0.700700</td>\n",
       "      <td>0.735618</td>\n",
       "      <td>75.715485</td>\n",
       "      <td>13.646223</td>\n",
       "      <td>1311.060248</td>\n",
       "      <td>53.682455</td>\n",
       "      <td>289.037497</td>\n",
       "      <td>119.296702</td>\n",
       "      <td>26.406800</td>\n",
       "      <td>31.955337</td>\n",
       "      <td>30.324208</td>\n",
       "      <td>32.426324</td>\n",
       "      <td>27.095940</td>\n",
       "      <td>30.110391</td>\n",
       "    </tr>\n",
       "    <tr>\n",
       "      <th>min</th>\n",
       "      <td>1.000000</td>\n",
       "      <td>1.000000</td>\n",
       "      <td>1.000000</td>\n",
       "      <td>3.000000</td>\n",
       "      <td>1.000000</td>\n",
       "      <td>1.000000</td>\n",
       "      <td>4.000000</td>\n",
       "      <td>0.000000</td>\n",
       "      <td>175.000000</td>\n",
       "      <td>1.000000</td>\n",
       "      <td>5.000000</td>\n",
       "      <td>5.000000</td>\n",
       "      <td>10.000000</td>\n",
       "      <td>20.000000</td>\n",
       "      <td>5.000000</td>\n",
       "    </tr>\n",
       "    <tr>\n",
       "      <th>25%</th>\n",
       "      <td>230.750000</td>\n",
       "      <td>1.000000</td>\n",
       "      <td>2.000000</td>\n",
       "      <td>45.000000</td>\n",
       "      <td>6.000000</td>\n",
       "      <td>89.750000</td>\n",
       "      <td>24.000000</td>\n",
       "      <td>20.000000</td>\n",
       "      <td>330.000000</td>\n",
       "      <td>52.000000</td>\n",
       "      <td>57.000000</td>\n",
       "      <td>52.000000</td>\n",
       "      <td>50.000000</td>\n",
       "      <td>51.000000</td>\n",
       "      <td>45.000000</td>\n",
       "    </tr>\n",
       "    <tr>\n",
       "      <th>50%</th>\n",
       "      <td>486.500000</td>\n",
       "      <td>1.000000</td>\n",
       "      <td>2.000000</td>\n",
       "      <td>60.000000</td>\n",
       "      <td>10.000000</td>\n",
       "      <td>300.000000</td>\n",
       "      <td>39.000000</td>\n",
       "      <td>66.000000</td>\n",
       "      <td>464.500000</td>\n",
       "      <td>70.000000</td>\n",
       "      <td>80.000000</td>\n",
       "      <td>70.000000</td>\n",
       "      <td>65.000000</td>\n",
       "      <td>70.000000</td>\n",
       "      <td>67.500000</td>\n",
       "    </tr>\n",
       "    <tr>\n",
       "      <th>75%</th>\n",
       "      <td>751.250000</td>\n",
       "      <td>2.000000</td>\n",
       "      <td>3.000000</td>\n",
       "      <td>127.000000</td>\n",
       "      <td>16.000000</td>\n",
       "      <td>775.500000</td>\n",
       "      <td>63.000000</td>\n",
       "      <td>171.250000</td>\n",
       "      <td>520.000000</td>\n",
       "      <td>85.000000</td>\n",
       "      <td>100.000000</td>\n",
       "      <td>91.000000</td>\n",
       "      <td>95.000000</td>\n",
       "      <td>90.000000</td>\n",
       "      <td>91.000000</td>\n",
       "    </tr>\n",
       "    <tr>\n",
       "      <th>max</th>\n",
       "      <td>1025.000000</td>\n",
       "      <td>3.000000</td>\n",
       "      <td>3.000000</td>\n",
       "      <td>255.000000</td>\n",
       "      <td>200.000000</td>\n",
       "      <td>9999.000000</td>\n",
       "      <td>787.000000</td>\n",
       "      <td>2204.000000</td>\n",
       "      <td>780.000000</td>\n",
       "      <td>255.000000</td>\n",
       "      <td>190.000000</td>\n",
       "      <td>230.000000</td>\n",
       "      <td>194.000000</td>\n",
       "      <td>230.000000</td>\n",
       "      <td>200.000000</td>\n",
       "    </tr>\n",
       "  </tbody>\n",
       "</table>\n",
       "</div>"
      ],
      "text/plain": [
       "       National Dex #  Evolution Stage  Number of Evolution   Catch Rate  \\\n",
       "count     1184.000000      1184.000000          1184.000000  1184.000000   \n",
       "mean       494.978041         1.597128             2.108108    92.202703   \n",
       "std        299.166288         0.700700             0.735618    75.715485   \n",
       "min          1.000000         1.000000             1.000000     3.000000   \n",
       "25%        230.750000         1.000000             2.000000    45.000000   \n",
       "50%        486.500000         1.000000             2.000000    60.000000   \n",
       "75%        751.250000         2.000000             3.000000   127.000000   \n",
       "max       1025.000000         3.000000             3.000000   255.000000   \n",
       "\n",
       "       Height (dm)  Weight (hg)  Height (in)  Weight (lbs)  Base Stat Total  \\\n",
       "count  1184.000000  1184.000000  1184.000000   1184.000000      1184.000000   \n",
       "mean     12.829392   730.995777    50.535473    161.163851       441.633446   \n",
       "std      13.646223  1311.060248    53.682455    289.037497       119.296702   \n",
       "min       1.000000     1.000000     4.000000      0.000000       175.000000   \n",
       "25%       6.000000    89.750000    24.000000     20.000000       330.000000   \n",
       "50%      10.000000   300.000000    39.000000     66.000000       464.500000   \n",
       "75%      16.000000   775.500000    63.000000    171.250000       520.000000   \n",
       "max     200.000000  9999.000000   787.000000   2204.000000       780.000000   \n",
       "\n",
       "            Health       Attack      Defense  Special Attack  Special Defense  \\\n",
       "count  1184.000000  1184.000000  1184.000000     1184.000000      1184.000000   \n",
       "mean     70.910473    80.989020    74.817568       72.922297        72.265203   \n",
       "std      26.406800    31.955337    30.324208       32.426324        27.095940   \n",
       "min       1.000000     5.000000     5.000000       10.000000        20.000000   \n",
       "25%      52.000000    57.000000    52.000000       50.000000        51.000000   \n",
       "50%      70.000000    80.000000    70.000000       65.000000        70.000000   \n",
       "75%      85.000000   100.000000    91.000000       95.000000        90.000000   \n",
       "max     255.000000   190.000000   230.000000      194.000000       230.000000   \n",
       "\n",
       "             Speed  \n",
       "count  1184.000000  \n",
       "mean     69.728885  \n",
       "std      30.110391  \n",
       "min       5.000000  \n",
       "25%      45.000000  \n",
       "50%      67.500000  \n",
       "75%      91.000000  \n",
       "max     200.000000  "
      ]
     },
     "execution_count": 42,
     "metadata": {},
     "output_type": "execute_result"
    }
   ],
   "source": [
    "# Getting insights of the value scope \n",
    "df.describe()"
   ]
  },
  {
   "cell_type": "code",
   "execution_count": null,
   "id": "16c73116",
   "metadata": {},
   "outputs": [
    {
     "data": {
      "text/plain": [
       "<Axes: title={'center': 'Secondary Pokémon Types'}, xlabel='Secondary Typing'>"
      ]
     },
     "execution_count": 46,
     "metadata": {},
     "output_type": "execute_result"
    }
   ],
   "source": [
    "# Non-numeric data is not included in the statistic above, but can be plotted\n",
    "df[\"Primary Typing\"].value_counts().plot(kind='bar', figsize=(12,6), title=\"Primary Pokémon Types\")"
   ]
  },
  {
   "cell_type": "code",
   "execution_count": null,
   "id": "88f94c1c",
   "metadata": {},
   "outputs": [
    {
     "data": {
      "text/plain": [
       "array(['grass/poison', 'fire/None', 'fire/flying', 'fire/dragon',\n",
       "       'water/None', 'bug/None', 'bug/flying', 'bug/poison',\n",
       "       'normal/flying', 'normal/None', 'dark/normal', 'poison/None',\n",
       "       'electric/None', 'electric/psychic', 'ground/None', 'ice/steel',\n",
       "       'poison/ground', 'fairy/None', 'ice/None', 'ice/fairy',\n",
       "       'normal/fairy', 'poison/flying', 'bug/grass', 'ground/steel',\n",
       "       'dark/None', 'steel/None', 'fighting/None', 'fire/rock',\n",
       "       'water/fighting', 'psychic/None', 'water/poison', 'rock/ground',\n",
       "       'rock/electric', 'psychic/fairy', 'water/psychic',\n",
       "       'poison/psychic', 'electric/steel', 'water/ice', 'poison/dark',\n",
       "       'ghost/poison', 'electric/grass', 'grass/psychic', 'grass/dragon',\n",
       "       'fire/ghost', 'poison/fairy', 'ground/rock', 'grass/None',\n",
       "       'ice/psychic', 'fighting/fire', 'fighting/water', 'water/flying',\n",
       "       'water/dark', 'rock/water', 'rock/flying', 'ice/flying',\n",
       "       'psychic/flying', 'electric/flying', 'fighting/flying',\n",
       "       'dark/flying', 'dragon/None', 'dragon/flying', 'psychic/fighting',\n",
       "       'water/electric', 'fairy/flying', 'electric/dragon', 'water/fairy',\n",
       "       'rock/None', 'grass/flying', 'water/ground', 'ghost/None',\n",
       "       'normal/psychic', 'bug/steel', 'ground/flying', 'steel/ground',\n",
       "       'dark/poison', 'bug/rock', 'bug/fighting', 'dark/ice',\n",
       "       'fighting/poison', 'ice/ground', 'water/rock', 'steel/flying',\n",
       "       'dark/fire', 'water/dragon', 'rock/dark', 'psychic/grass',\n",
       "       'fire/fighting', 'water/grass', 'grass/dark', 'bug/water',\n",
       "       'grass/fighting', 'bug/ground', 'bug/ghost', 'dark/ghost',\n",
       "       'steel/fairy', 'steel/rock', 'fighting/psychic', 'fire/ground',\n",
       "       'ground/dragon', 'dragon/fairy', 'rock/psychic', 'ground/psychic',\n",
       "       'rock/grass', 'rock/bug', 'ice/water', 'steel/psychic',\n",
       "       'dragon/psychic', 'ground/fire', 'grass/ground', 'water/steel',\n",
       "       'normal/water', 'rock/steel', 'ghost/flying', 'normal/fighting',\n",
       "       'ghost/dark', 'dragon/ground', 'fighting/steel', 'poison/bug',\n",
       "       'poison/fighting', 'grass/ice', 'ice/ghost', 'electric/ghost',\n",
       "       'electric/fire', 'electric/water', 'electric/ice', 'steel/dragon',\n",
       "       'fire/steel', 'ghost/dragon', 'psychic/fire', 'grass/fairy',\n",
       "       'ground/dark', 'fire/psychic', 'ice/fire', 'dark/fighting',\n",
       "       'ground/ghost', 'normal/ghost', 'normal/grass', 'water/ghost',\n",
       "       'bug/electric', 'grass/steel', 'ghost/fire', 'ground/electric',\n",
       "       'dark/steel', 'dark/dragon', 'bug/fire', 'steel/fighting',\n",
       "       'rock/fighting', 'flying/None', 'dragon/fire', 'dragon/electric',\n",
       "       'dragon/ice', 'normal/ground', 'fire/normal', 'fighting/dark',\n",
       "       'steel/ghost', 'dark/psychic', 'poison/water', 'poison/dragon',\n",
       "       'electric/normal', 'rock/dragon', 'rock/ice', 'electric/fairy',\n",
       "       'rock/fairy', 'ghost/grass', 'ice/rock', 'flying/dragon',\n",
       "       'psychic/ghost', 'psychic/dark', 'fire/water', 'grass/ghost',\n",
       "       'fire/dark', 'fighting/ice', 'bug/fairy', 'water/bug',\n",
       "       'poison/fire', 'ghost/ground', 'ghost/fairy', 'normal/dragon',\n",
       "       'dragon/fighting', 'psychic/steel', 'rock/poison',\n",
       "       'psychic/dragon', 'fighting/ghost', 'flying/steel', 'bug/psychic',\n",
       "       'rock/fire', 'flying/water', 'electric/poison', 'fire/bug',\n",
       "       'dark/fairy', 'ice/bug', 'psychic/normal', 'electric/dark',\n",
       "       'dragon/ghost', 'fairy/steel', 'dark/grass', 'psychic/ice',\n",
       "       'ground/normal', 'bug/dark', 'electric/fighting', 'grass/normal',\n",
       "       'poison/normal', 'ground/grass', 'grass/fire', 'flying/dark',\n",
       "       'steel/poison', 'dragon/normal', 'flying/fighting', 'dragon/water',\n",
       "       'ground/fighting', 'fairy/psychic', 'electric/ground',\n",
       "       'fighting/electric', 'fire/poison', 'dark/ground', 'dragon/dark',\n",
       "       'fairy/fighting', 'fighting/dragon', 'grass/water', 'grass/rock',\n",
       "       'poison/ghost'], dtype=object)"
      ]
     },
     "execution_count": 56,
     "metadata": {},
     "output_type": "execute_result"
    }
   ],
   "source": [
    "# Showing the kind of type combos there are\n",
    "df[\"Type Combo\"].unique()"
   ]
  },
  {
   "cell_type": "code",
   "execution_count": null,
   "id": "509fd11a",
   "metadata": {},
   "outputs": [],
   "source": [
    "# Saving combo in a new cell in the main DataFrame\n",
    "df[\"Type Combo\"] = df[\"Primary Typing\"] + \"/\" + df[\"Secondary Typing\"].fillna(\"None\")"
   ]
  },
  {
   "cell_type": "code",
   "execution_count": 48,
   "id": "6fbc4de2",
   "metadata": {},
   "outputs": [
    {
     "data": {
      "text/plain": [
       "water/None       79\n",
       "normal/None      79\n",
       "grass/None       47\n",
       "psychic/None     43\n",
       "electric/None    37\n",
       "fire/None        37\n",
       "fighting/None    30\n",
       "normal/flying    28\n",
       "bug/None         23\n",
       "fairy/None       22\n",
       "Name: count, dtype: int64"
      ]
     },
     "execution_count": 48,
     "metadata": {},
     "output_type": "execute_result"
    }
   ],
   "source": [
    "type_counts = df[\"Primary Typing\"] + \"/\" + df[\"Secondary Typing\"].fillna(\"None\")\n",
    "type_counts.value_counts().head(10)\n"
   ]
  },
  {
   "cell_type": "code",
   "execution_count": null,
   "id": "003ef163",
   "metadata": {},
   "outputs": [
    {
     "data": {
      "text/html": [
       "<div>\n",
       "<style scoped>\n",
       "    .dataframe tbody tr th:only-of-type {\n",
       "        vertical-align: middle;\n",
       "    }\n",
       "\n",
       "    .dataframe tbody tr th {\n",
       "        vertical-align: top;\n",
       "    }\n",
       "\n",
       "    .dataframe thead th {\n",
       "        text-align: right;\n",
       "    }\n",
       "</style>\n",
       "<table border=\"1\" class=\"dataframe\">\n",
       "  <thead>\n",
       "    <tr style=\"text-align: right;\">\n",
       "      <th></th>\n",
       "      <th>Name</th>\n",
       "      <th>National Dex #</th>\n",
       "      <th>Primary Typing</th>\n",
       "      <th>Secondary Typing</th>\n",
       "      <th>Secondary Typing Flag</th>\n",
       "      <th>Generation</th>\n",
       "      <th>Legendary Status</th>\n",
       "      <th>Form</th>\n",
       "      <th>Alt Form Flag</th>\n",
       "      <th>Evolution Stage</th>\n",
       "      <th>...</th>\n",
       "      <th>Height (in)</th>\n",
       "      <th>Weight (lbs)</th>\n",
       "      <th>Base Stat Total</th>\n",
       "      <th>Health</th>\n",
       "      <th>Attack</th>\n",
       "      <th>Defense</th>\n",
       "      <th>Special Attack</th>\n",
       "      <th>Special Defense</th>\n",
       "      <th>Speed</th>\n",
       "      <th>Type Combo</th>\n",
       "    </tr>\n",
       "  </thead>\n",
       "  <tbody>\n",
       "    <tr>\n",
       "      <th>6</th>\n",
       "      <td>charizard</td>\n",
       "      <td>6</td>\n",
       "      <td>fire</td>\n",
       "      <td>flying</td>\n",
       "      <td>True</td>\n",
       "      <td>generation-i</td>\n",
       "      <td>False</td>\n",
       "      <td>Base</td>\n",
       "      <td>False</td>\n",
       "      <td>3</td>\n",
       "      <td>...</td>\n",
       "      <td>67</td>\n",
       "      <td>200</td>\n",
       "      <td>534</td>\n",
       "      <td>78</td>\n",
       "      <td>84</td>\n",
       "      <td>78</td>\n",
       "      <td>109</td>\n",
       "      <td>85</td>\n",
       "      <td>100</td>\n",
       "      <td>fire/flying</td>\n",
       "    </tr>\n",
       "    <tr>\n",
       "      <th>8</th>\n",
       "      <td>charizard-mega-y</td>\n",
       "      <td>6</td>\n",
       "      <td>fire</td>\n",
       "      <td>flying</td>\n",
       "      <td>True</td>\n",
       "      <td>generation-i</td>\n",
       "      <td>True</td>\n",
       "      <td>Mega Y</td>\n",
       "      <td>True</td>\n",
       "      <td>3</td>\n",
       "      <td>...</td>\n",
       "      <td>67</td>\n",
       "      <td>222</td>\n",
       "      <td>634</td>\n",
       "      <td>78</td>\n",
       "      <td>104</td>\n",
       "      <td>78</td>\n",
       "      <td>159</td>\n",
       "      <td>115</td>\n",
       "      <td>100</td>\n",
       "      <td>fire/flying</td>\n",
       "    </tr>\n",
       "    <tr>\n",
       "      <th>197</th>\n",
       "      <td>moltres</td>\n",
       "      <td>146</td>\n",
       "      <td>fire</td>\n",
       "      <td>flying</td>\n",
       "      <td>True</td>\n",
       "      <td>generation-i</td>\n",
       "      <td>True</td>\n",
       "      <td>Base</td>\n",
       "      <td>False</td>\n",
       "      <td>1</td>\n",
       "      <td>...</td>\n",
       "      <td>79</td>\n",
       "      <td>132</td>\n",
       "      <td>580</td>\n",
       "      <td>90</td>\n",
       "      <td>100</td>\n",
       "      <td>90</td>\n",
       "      <td>125</td>\n",
       "      <td>85</td>\n",
       "      <td>90</td>\n",
       "      <td>fire/flying</td>\n",
       "    </tr>\n",
       "    <tr>\n",
       "      <th>316</th>\n",
       "      <td>ho-oh</td>\n",
       "      <td>250</td>\n",
       "      <td>fire</td>\n",
       "      <td>flying</td>\n",
       "      <td>True</td>\n",
       "      <td>generation-ii</td>\n",
       "      <td>True</td>\n",
       "      <td>Base</td>\n",
       "      <td>False</td>\n",
       "      <td>1</td>\n",
       "      <td>...</td>\n",
       "      <td>150</td>\n",
       "      <td>439</td>\n",
       "      <td>680</td>\n",
       "      <td>106</td>\n",
       "      <td>130</td>\n",
       "      <td>90</td>\n",
       "      <td>110</td>\n",
       "      <td>154</td>\n",
       "      <td>90</td>\n",
       "      <td>fire/flying</td>\n",
       "    </tr>\n",
       "    <tr>\n",
       "      <th>784</th>\n",
       "      <td>fletchinder</td>\n",
       "      <td>662</td>\n",
       "      <td>fire</td>\n",
       "      <td>flying</td>\n",
       "      <td>True</td>\n",
       "      <td>generation-vi</td>\n",
       "      <td>False</td>\n",
       "      <td>Base</td>\n",
       "      <td>False</td>\n",
       "      <td>2</td>\n",
       "      <td>...</td>\n",
       "      <td>28</td>\n",
       "      <td>35</td>\n",
       "      <td>382</td>\n",
       "      <td>62</td>\n",
       "      <td>73</td>\n",
       "      <td>55</td>\n",
       "      <td>56</td>\n",
       "      <td>52</td>\n",
       "      <td>84</td>\n",
       "      <td>fire/flying</td>\n",
       "    </tr>\n",
       "    <tr>\n",
       "      <th>785</th>\n",
       "      <td>talonflame</td>\n",
       "      <td>663</td>\n",
       "      <td>fire</td>\n",
       "      <td>flying</td>\n",
       "      <td>True</td>\n",
       "      <td>generation-vi</td>\n",
       "      <td>False</td>\n",
       "      <td>Base</td>\n",
       "      <td>False</td>\n",
       "      <td>3</td>\n",
       "      <td>...</td>\n",
       "      <td>47</td>\n",
       "      <td>54</td>\n",
       "      <td>499</td>\n",
       "      <td>78</td>\n",
       "      <td>81</td>\n",
       "      <td>71</td>\n",
       "      <td>74</td>\n",
       "      <td>69</td>\n",
       "      <td>126</td>\n",
       "      <td>fire/flying</td>\n",
       "    </tr>\n",
       "    <tr>\n",
       "      <th>873</th>\n",
       "      <td>oricorio-baile</td>\n",
       "      <td>741</td>\n",
       "      <td>fire</td>\n",
       "      <td>flying</td>\n",
       "      <td>True</td>\n",
       "      <td>generation-vii</td>\n",
       "      <td>False</td>\n",
       "      <td>Base</td>\n",
       "      <td>False</td>\n",
       "      <td>1</td>\n",
       "      <td>...</td>\n",
       "      <td>24</td>\n",
       "      <td>7</td>\n",
       "      <td>476</td>\n",
       "      <td>75</td>\n",
       "      <td>70</td>\n",
       "      <td>70</td>\n",
       "      <td>98</td>\n",
       "      <td>70</td>\n",
       "      <td>93</td>\n",
       "      <td>fire/flying</td>\n",
       "    </tr>\n",
       "  </tbody>\n",
       "</table>\n",
       "<p>7 rows × 25 columns</p>\n",
       "</div>"
      ],
      "text/plain": [
       "                 Name  National Dex # Primary Typing Secondary Typing  \\\n",
       "6           charizard               6           fire           flying   \n",
       "8    charizard-mega-y               6           fire           flying   \n",
       "197           moltres             146           fire           flying   \n",
       "316             ho-oh             250           fire           flying   \n",
       "784       fletchinder             662           fire           flying   \n",
       "785        talonflame             663           fire           flying   \n",
       "873    oricorio-baile             741           fire           flying   \n",
       "\n",
       "     Secondary Typing Flag      Generation  Legendary Status    Form  \\\n",
       "6                     True    generation-i             False    Base   \n",
       "8                     True    generation-i              True  Mega Y   \n",
       "197                   True    generation-i              True    Base   \n",
       "316                   True   generation-ii              True    Base   \n",
       "784                   True   generation-vi             False    Base   \n",
       "785                   True   generation-vi             False    Base   \n",
       "873                   True  generation-vii             False    Base   \n",
       "\n",
       "     Alt Form Flag  Evolution Stage  ...  Height (in) Weight (lbs)  \\\n",
       "6            False                3  ...           67          200   \n",
       "8             True                3  ...           67          222   \n",
       "197          False                1  ...           79          132   \n",
       "316          False                1  ...          150          439   \n",
       "784          False                2  ...           28           35   \n",
       "785          False                3  ...           47           54   \n",
       "873          False                1  ...           24            7   \n",
       "\n",
       "     Base Stat Total  Health  Attack  Defense  Special Attack  \\\n",
       "6                534      78      84       78             109   \n",
       "8                634      78     104       78             159   \n",
       "197              580      90     100       90             125   \n",
       "316              680     106     130       90             110   \n",
       "784              382      62      73       55              56   \n",
       "785              499      78      81       71              74   \n",
       "873              476      75      70       70              98   \n",
       "\n",
       "     Special Defense  Speed   Type Combo  \n",
       "6                 85    100  fire/flying  \n",
       "8                115    100  fire/flying  \n",
       "197               85     90  fire/flying  \n",
       "316              154     90  fire/flying  \n",
       "784               52     84  fire/flying  \n",
       "785               69    126  fire/flying  \n",
       "873               70     93  fire/flying  \n",
       "\n",
       "[7 rows x 25 columns]"
      ]
     },
     "execution_count": 55,
     "metadata": {},
     "output_type": "execute_result"
    }
   ],
   "source": [
    "# Shows how many Pokémon exist for each unique Primary/Secondary type combination (e.g., Fire/Flying, Water/None, etc.)\n",
    "df[\"Type Combo\"].value_counts()\n",
    "\n",
    "# Calculates the average Base Stat Total for each type combo, helping identify which combinations are generally stronger overall.\n",
    "df.groupby(\"Type Combo\")[\"Base Stat Total\"].mean()\n",
    "\n",
    "# Filters the dataset to only show Pokémon whose type combo is exactly Fire/Flying.\n",
    "df[df[\"Type Combo\"] == \"fire/flying\"]\n"
   ]
  },
  {
   "cell_type": "code",
   "execution_count": null,
   "id": "6bad3819",
   "metadata": {},
   "outputs": [
    {
     "data": {
      "text/plain": [
       "1184"
      ]
     },
     "execution_count": 57,
     "metadata": {},
     "output_type": "execute_result"
    }
   ],
   "source": [
    "# Checking how many pokemon have primary types\n",
    "df[\"Primary Typing\"].notna().sum()"
   ]
  },
  {
   "cell_type": "code",
   "execution_count": 58,
   "id": "936ff003",
   "metadata": {},
   "outputs": [
    {
     "data": {
      "text/plain": [
       "654"
      ]
     },
     "execution_count": 58,
     "metadata": {},
     "output_type": "execute_result"
    }
   ],
   "source": [
    "# Checking how many have secondary types\n",
    "df[\"Secondary Typing\"].notna().sum()"
   ]
  },
  {
   "cell_type": "code",
   "execution_count": null,
   "id": "7f7eabb6",
   "metadata": {},
   "outputs": [
    {
     "data": {
      "text/plain": [
       "530"
      ]
     },
     "execution_count": 59,
     "metadata": {},
     "output_type": "execute_result"
    }
   ],
   "source": [
    "# Checking how many pokemon that don't have a secondary type (NULL values)\n",
    "df[\"Secondary Typing\"].isna().sum()"
   ]
  },
  {
   "cell_type": "code",
   "execution_count": null,
   "id": "b1ca1103",
   "metadata": {},
   "outputs": [
    {
     "name": "stdout",
     "output_type": "stream",
     "text": [
      "With Secondary: 654 (55.2%)\n",
      "Without Secondary: 530 (44.8%)\n"
     ]
    }
   ],
   "source": [
    "# Seeing percentages\n",
    "total = len(df)\n",
    "has_secondary = df[\"Secondary Typing\"].notna().sum()\n",
    "no_secondary = df[\"Secondary Typing\"].isna().sum()\n",
    "\n",
    "print(\"With Secondary:\", has_secondary, f\"({has_secondary/total:.1%})\")\n",
    "print(\"Without Secondary:\", no_secondary, f\"({no_secondary/total:.1%})\")\n"
   ]
  },
  {
   "cell_type": "markdown",
   "id": "d9fa39fe",
   "metadata": {},
   "source": [
    "### Preparing data for analysis"
   ]
  },
  {
   "cell_type": "code",
   "execution_count": null,
   "id": "ee2f2f0c",
   "metadata": {},
   "outputs": [],
   "source": [
    "# Count the missing values of each attributes\n",
    "df.isnull().sum()"
   ]
  },
  {
   "cell_type": "code",
   "execution_count": 63,
   "id": "0ec7a828",
   "metadata": {},
   "outputs": [],
   "source": [
    "# Fill missing secondary types with \"None\"\n",
    "df[\"Secondary Typing\"] = df[\"Secondary Typing\"].fillna(\"None\")"
   ]
  },
  {
   "cell_type": "code",
   "execution_count": 65,
   "id": "5590eebf",
   "metadata": {},
   "outputs": [],
   "source": [
    "# Dropping non-informative columns\n",
    "df = df.drop(['Form', 'Alt Form Flag', 'Color ID'], axis=1)"
   ]
  },
  {
   "cell_type": "code",
   "execution_count": null,
   "id": "818766c7",
   "metadata": {},
   "outputs": [
    {
     "data": {
      "text/plain": [
       "Name                     0\n",
       "National Dex #           0\n",
       "Primary Typing           0\n",
       "Secondary Typing         0\n",
       "Secondary Typing Flag    0\n",
       "Generation               0\n",
       "Legendary Status         0\n",
       "Evolution Stage          0\n",
       "Number of Evolution      0\n",
       "Catch Rate               0\n",
       "Height (dm)              0\n",
       "Weight (hg)              0\n",
       "Height (in)              0\n",
       "Weight (lbs)             0\n",
       "Base Stat Total          0\n",
       "Health                   0\n",
       "Attack                   0\n",
       "Defense                  0\n",
       "Special Attack           0\n",
       "Special Defense          0\n",
       "Speed                    0\n",
       "Type Combo               0\n",
       "dtype: int64"
      ]
     },
     "execution_count": 66,
     "metadata": {},
     "output_type": "execute_result"
    }
   ],
   "source": [
    "# Checking to see if there are missing values on evolutions\n",
    "df.isnull().sum()\n",
    "\n",
    "# No need to fill missing values: all important columns are complete.\n",
    "# Only 'Secondary Typing' had missing values, which we've filled with 'None'."
   ]
  },
  {
   "cell_type": "code",
   "execution_count": null,
   "id": "74b9c0ee",
   "metadata": {},
   "outputs": [
    {
     "data": {
      "text/plain": [
       "Name                     1184\n",
       "National Dex #           1184\n",
       "Primary Typing           1184\n",
       "Secondary Typing         1184\n",
       "Secondary Typing Flag    1184\n",
       "Generation               1184\n",
       "Legendary Status         1184\n",
       "Evolution Stage          1184\n",
       "Number of Evolution      1184\n",
       "Catch Rate               1184\n",
       "Height (dm)              1184\n",
       "Weight (hg)              1184\n",
       "Height (in)              1184\n",
       "Weight (lbs)             1184\n",
       "Base Stat Total          1184\n",
       "Health                   1184\n",
       "Attack                   1184\n",
       "Defense                  1184\n",
       "Special Attack           1184\n",
       "Special Defense          1184\n",
       "Speed                    1184\n",
       "Type Combo               1184\n",
       "dtype: int64"
      ]
     },
     "execution_count": 68,
     "metadata": {},
     "output_type": "execute_result"
    }
   ],
   "source": [
    "# Seeing count, making sure nothing is in a null state. \n",
    "df.count()\n"
   ]
  },
  {
   "cell_type": "markdown",
   "id": "9fdb856c",
   "metadata": {},
   "source": [
    "### Transforming Data into numeric"
   ]
  },
  {
   "cell_type": "code",
   "execution_count": 73,
   "id": "e45cc024",
   "metadata": {},
   "outputs": [],
   "source": [
    "# Defining a function to transform all categorial columns into numeric, using naming LabelEncoder\n",
    "def preprocessor(df):\n",
    "    processed_df = df.copy() # Making a copy, so the original doesn't change.\n",
    "    le = preprocessing.LabelEncoder() # Creating a label encoder instance.\n",
    "\n",
    "    # Convert text types into numbers\n",
    "    processed_df['Primary Typing'] = le.fit_transform(df['Primary Typing'])\n",
    "    processed_df['Secondary Typing'] = le.fit_transform(df['Secondary Typing'])\n",
    "    processed_df['Generation'] = le.fit_transform(df['Generation'])\n",
    "\n",
    "    # Drop non-informative columns (keep 'Name' for reference) - IF they exist\n",
    "    processed_df = processed_df.drop(['Form', 'Alt Form Flag', 'Color ID'], axis=1, errors='ignore')\n",
    "    \n",
    "    return processed_df"
   ]
  },
  {
   "cell_type": "code",
   "execution_count": 74,
   "id": "02addf45",
   "metadata": {},
   "outputs": [],
   "source": [
    "# Apply the transformation function to get the processed dataset\n",
    "dfp = preprocessor(df)"
   ]
  },
  {
   "cell_type": "code",
   "execution_count": 76,
   "id": "2f515594",
   "metadata": {},
   "outputs": [],
   "source": [
    "# Convert boolean columns to integers so the model can use them\n",
    "# Drop 'Type Combo' because it's still a string, and not needed for prediction\n",
    "\n",
    "# Convert boolean columns to integers\n",
    "dfp['Legendary Status'] = dfp['Legendary Status'].astype(int)\n",
    "dfp['Secondary Typing Flag'] = dfp['Secondary Typing Flag'].astype(int)\n",
    "dfp['Evolution Stage'] = dfp['Evolution Stage'].astype(int)\n",
    "\n",
    "# Droppint type combo\n",
    "dfp = dfp.drop(\"Type Combo\", axis=1)"
   ]
  },
  {
   "cell_type": "markdown",
   "id": "a4d41eb9",
   "metadata": {},
   "source": [
    "#### I have chosen to keep the name, and just exclude this column, when training the model. Keeping the names of the pokemon was purely for me, if I wanted to use the pokemon dataset for another kind of data analysis."
   ]
  },
  {
   "cell_type": "code",
   "execution_count": 79,
   "id": "9a4495d0",
   "metadata": {},
   "outputs": [
    {
     "data": {
      "text/html": [
       "<div>\n",
       "<style scoped>\n",
       "    .dataframe tbody tr th:only-of-type {\n",
       "        vertical-align: middle;\n",
       "    }\n",
       "\n",
       "    .dataframe tbody tr th {\n",
       "        vertical-align: top;\n",
       "    }\n",
       "\n",
       "    .dataframe thead th {\n",
       "        text-align: right;\n",
       "    }\n",
       "</style>\n",
       "<table border=\"1\" class=\"dataframe\">\n",
       "  <thead>\n",
       "    <tr style=\"text-align: right;\">\n",
       "      <th></th>\n",
       "      <th>Name</th>\n",
       "      <th>National Dex #</th>\n",
       "      <th>Primary Typing</th>\n",
       "      <th>Secondary Typing</th>\n",
       "      <th>Secondary Typing Flag</th>\n",
       "      <th>Generation</th>\n",
       "      <th>Legendary Status</th>\n",
       "      <th>Evolution Stage</th>\n",
       "      <th>Number of Evolution</th>\n",
       "      <th>Catch Rate</th>\n",
       "      <th>...</th>\n",
       "      <th>Weight (hg)</th>\n",
       "      <th>Height (in)</th>\n",
       "      <th>Weight (lbs)</th>\n",
       "      <th>Base Stat Total</th>\n",
       "      <th>Health</th>\n",
       "      <th>Attack</th>\n",
       "      <th>Defense</th>\n",
       "      <th>Special Attack</th>\n",
       "      <th>Special Defense</th>\n",
       "      <th>Speed</th>\n",
       "    </tr>\n",
       "  </thead>\n",
       "  <tbody>\n",
       "    <tr>\n",
       "      <th>0</th>\n",
       "      <td>bulbasaur</td>\n",
       "      <td>1</td>\n",
       "      <td>9</td>\n",
       "      <td>14</td>\n",
       "      <td>1</td>\n",
       "      <td>0</td>\n",
       "      <td>0</td>\n",
       "      <td>1</td>\n",
       "      <td>3</td>\n",
       "      <td>45</td>\n",
       "      <td>...</td>\n",
       "      <td>69</td>\n",
       "      <td>28</td>\n",
       "      <td>15</td>\n",
       "      <td>318</td>\n",
       "      <td>45</td>\n",
       "      <td>49</td>\n",
       "      <td>49</td>\n",
       "      <td>65</td>\n",
       "      <td>65</td>\n",
       "      <td>45</td>\n",
       "    </tr>\n",
       "    <tr>\n",
       "      <th>1</th>\n",
       "      <td>ivysaur</td>\n",
       "      <td>2</td>\n",
       "      <td>9</td>\n",
       "      <td>14</td>\n",
       "      <td>1</td>\n",
       "      <td>0</td>\n",
       "      <td>0</td>\n",
       "      <td>2</td>\n",
       "      <td>3</td>\n",
       "      <td>45</td>\n",
       "      <td>...</td>\n",
       "      <td>130</td>\n",
       "      <td>39</td>\n",
       "      <td>29</td>\n",
       "      <td>405</td>\n",
       "      <td>60</td>\n",
       "      <td>62</td>\n",
       "      <td>63</td>\n",
       "      <td>80</td>\n",
       "      <td>80</td>\n",
       "      <td>60</td>\n",
       "    </tr>\n",
       "    <tr>\n",
       "      <th>2</th>\n",
       "      <td>venusaur</td>\n",
       "      <td>3</td>\n",
       "      <td>9</td>\n",
       "      <td>14</td>\n",
       "      <td>1</td>\n",
       "      <td>0</td>\n",
       "      <td>0</td>\n",
       "      <td>3</td>\n",
       "      <td>3</td>\n",
       "      <td>45</td>\n",
       "      <td>...</td>\n",
       "      <td>1000</td>\n",
       "      <td>79</td>\n",
       "      <td>220</td>\n",
       "      <td>525</td>\n",
       "      <td>80</td>\n",
       "      <td>82</td>\n",
       "      <td>83</td>\n",
       "      <td>100</td>\n",
       "      <td>100</td>\n",
       "      <td>80</td>\n",
       "    </tr>\n",
       "    <tr>\n",
       "      <th>3</th>\n",
       "      <td>venusaur-mega</td>\n",
       "      <td>3</td>\n",
       "      <td>9</td>\n",
       "      <td>14</td>\n",
       "      <td>1</td>\n",
       "      <td>0</td>\n",
       "      <td>1</td>\n",
       "      <td>3</td>\n",
       "      <td>3</td>\n",
       "      <td>45</td>\n",
       "      <td>...</td>\n",
       "      <td>1555</td>\n",
       "      <td>94</td>\n",
       "      <td>343</td>\n",
       "      <td>625</td>\n",
       "      <td>80</td>\n",
       "      <td>100</td>\n",
       "      <td>123</td>\n",
       "      <td>122</td>\n",
       "      <td>120</td>\n",
       "      <td>80</td>\n",
       "    </tr>\n",
       "    <tr>\n",
       "      <th>4</th>\n",
       "      <td>charmander</td>\n",
       "      <td>4</td>\n",
       "      <td>6</td>\n",
       "      <td>0</td>\n",
       "      <td>0</td>\n",
       "      <td>0</td>\n",
       "      <td>0</td>\n",
       "      <td>1</td>\n",
       "      <td>3</td>\n",
       "      <td>45</td>\n",
       "      <td>...</td>\n",
       "      <td>85</td>\n",
       "      <td>24</td>\n",
       "      <td>19</td>\n",
       "      <td>309</td>\n",
       "      <td>39</td>\n",
       "      <td>52</td>\n",
       "      <td>43</td>\n",
       "      <td>60</td>\n",
       "      <td>50</td>\n",
       "      <td>65</td>\n",
       "    </tr>\n",
       "  </tbody>\n",
       "</table>\n",
       "<p>5 rows × 21 columns</p>\n",
       "</div>"
      ],
      "text/plain": [
       "            Name  National Dex #  Primary Typing  Secondary Typing  \\\n",
       "0      bulbasaur               1               9                14   \n",
       "1        ivysaur               2               9                14   \n",
       "2       venusaur               3               9                14   \n",
       "3  venusaur-mega               3               9                14   \n",
       "4     charmander               4               6                 0   \n",
       "\n",
       "   Secondary Typing Flag  Generation  Legendary Status  Evolution Stage  \\\n",
       "0                      1           0                 0                1   \n",
       "1                      1           0                 0                2   \n",
       "2                      1           0                 0                3   \n",
       "3                      1           0                 1                3   \n",
       "4                      0           0                 0                1   \n",
       "\n",
       "   Number of Evolution  Catch Rate  ...  Weight (hg)  Height (in)  \\\n",
       "0                    3          45  ...           69           28   \n",
       "1                    3          45  ...          130           39   \n",
       "2                    3          45  ...         1000           79   \n",
       "3                    3          45  ...         1555           94   \n",
       "4                    3          45  ...           85           24   \n",
       "\n",
       "   Weight (lbs)  Base Stat Total  Health  Attack  Defense  Special Attack  \\\n",
       "0            15              318      45      49       49              65   \n",
       "1            29              405      60      62       63              80   \n",
       "2           220              525      80      82       83             100   \n",
       "3           343              625      80     100      123             122   \n",
       "4            19              309      39      52       43              60   \n",
       "\n",
       "   Special Defense  Speed  \n",
       "0               65     45  \n",
       "1               80     60  \n",
       "2              100     80  \n",
       "3              120     80  \n",
       "4               50     65  \n",
       "\n",
       "[5 rows x 21 columns]"
      ]
     },
     "execution_count": 79,
     "metadata": {},
     "output_type": "execute_result"
    }
   ],
   "source": [
    "# Show the first few rows of processed dataset\n",
    "dfp.head()"
   ]
  },
  {
   "cell_type": "code",
   "execution_count": 80,
   "id": "398256ba",
   "metadata": {},
   "outputs": [
    {
     "data": {
      "text/plain": [
       "Name                     0\n",
       "National Dex #           0\n",
       "Primary Typing           0\n",
       "Secondary Typing         0\n",
       "Secondary Typing Flag    0\n",
       "Generation               0\n",
       "Legendary Status         0\n",
       "Evolution Stage          0\n",
       "Number of Evolution      0\n",
       "Catch Rate               0\n",
       "Height (dm)              0\n",
       "Weight (hg)              0\n",
       "Height (in)              0\n",
       "Weight (lbs)             0\n",
       "Base Stat Total          0\n",
       "Health                   0\n",
       "Attack                   0\n",
       "Defense                  0\n",
       "Special Attack           0\n",
       "Special Defense          0\n",
       "Speed                    0\n",
       "dtype: int64"
      ]
     },
     "execution_count": 80,
     "metadata": {},
     "output_type": "execute_result"
    }
   ],
   "source": [
    "# Checking for any missing values in the processed dataset\n",
    "dfp.isnull().sum()"
   ]
  },
  {
   "cell_type": "markdown",
   "id": "6174b763",
   "metadata": {},
   "source": [
    "### Train a model!"
   ]
  },
  {
   "cell_type": "code",
   "execution_count": 81,
   "id": "2aaf1d38",
   "metadata": {},
   "outputs": [],
   "source": [
    "# Split the data into input (X) and target (y)\n",
    "# Drop 'Legendary Status' from features and keep it as the label\n",
    "X = dfp.drop(['Legendary Status', 'Name'], axis=1).values\n",
    "y = dfp['Legendary Status'].values"
   ]
  },
  {
   "cell_type": "code",
   "execution_count": 82,
   "id": "6615f6bf",
   "metadata": {},
   "outputs": [],
   "source": [
    "# Split the data into training and test sets (80% train, 20% test)\n",
    "from sklearn.model_selection import train_test_split\n",
    "X_train, X_test, y_train, y_test = train_test_split(X, y, test_size=0.2)"
   ]
  },
  {
   "cell_type": "code",
   "execution_count": 83,
   "id": "b5ab01d3",
   "metadata": {},
   "outputs": [
    {
     "data": {
      "text/plain": [
       "0.9704641350210971"
      ]
     },
     "execution_count": 83,
     "metadata": {},
     "output_type": "execute_result"
    }
   ],
   "source": [
    "# Import and create a decision tree model\n",
    "dt = tree.DecisionTreeClassifier(max_depth=3)\n",
    "\n",
    "# Train the model on the training data\n",
    "dt.fit(X_train, y_train)\n",
    "\n",
    "# Check how accurate it is on the test data\n",
    "dt.score(X_test, y_test)\n"
   ]
  },
  {
   "cell_type": "code",
   "execution_count": 84,
   "id": "1ac8ba25",
   "metadata": {},
   "outputs": [
    {
     "data": {
      "text/plain": [
       "0.9662447257383966"
      ]
     },
     "execution_count": 84,
     "metadata": {},
     "output_type": "execute_result"
    }
   ],
   "source": [
    "# Random forest classifier \n",
    "from sklearn.ensemble import RandomForestClassifier\n",
    "rf = RandomForestClassifier(n_estimators=50)\n",
    "rf.fit(X_train, y_train)\n",
    "rf.score(X_test, y_test)"
   ]
  },
  {
   "cell_type": "code",
   "execution_count": 85,
   "id": "4e10c5f4",
   "metadata": {},
   "outputs": [
    {
     "data": {
      "text/plain": [
       "0.9746835443037974"
      ]
     },
     "execution_count": 85,
     "metadata": {},
     "output_type": "execute_result"
    }
   ],
   "source": [
    "# Gradient boosting classifier (slow but accurate)\n",
    "from sklearn.ensemble import GradientBoostingClassifier\n",
    "gb = GradientBoostingClassifier(n_estimators=50)\n",
    "gb.fit(X_train, y_train)\n",
    "gb.score(X_test, y_test)"
   ]
  },
  {
   "cell_type": "code",
   "execution_count": 86,
   "id": "8611d097",
   "metadata": {},
   "outputs": [
    {
     "data": {
      "text/plain": [
       "0.9789029535864979"
      ]
     },
     "execution_count": 86,
     "metadata": {},
     "output_type": "execute_result"
    }
   ],
   "source": [
    "# Combining the three models into one for better performance\n",
    "from sklearn.ensemble import VotingClassifier\n",
    "eclf = VotingClassifier([('dt', dt), ('rf', rf), ('gb', gb)])\n",
    "eclf.fit(X_train, y_train)\n",
    "eclf.score(X_test, y_test)"
   ]
  },
  {
   "cell_type": "markdown",
   "id": "55b4095a",
   "metadata": {},
   "source": [
    "### Predictions"
   ]
  },
  {
   "cell_type": "code",
   "execution_count": 89,
   "id": "39d71ef1",
   "metadata": {},
   "outputs": [
    {
     "data": {
      "image/png": "[encoded data removed]",
      "text/plain": [
       "<Figure size 640x480 with 2 Axes>"
      ]
     },
     "metadata": {},
     "output_type": "display_data"
    }
   ],
   "source": [
    "from sklearn.metrics import confusion_matrix, ConfusionMatrixDisplay\n",
    "# Show how many Pokémon were correctly and incorrectly predicted using a confusion matrix\n",
    "\n",
    "# Telling to predict using the best model (voting classifier)\n",
    "y_pred = eclf.predict(X_test)\n",
    "\n",
    "# Create confusion matrix\n",
    "cm = confusion_matrix(y_test, y_pred)\n",
    "\n",
    "# Plot it\n",
    "disp = ConfusionMatrixDisplay(confusion_matrix=cm, display_labels=[\"Not Legendary\", \"Legendary\"])\n",
    "disp.plot(cmap=\"Blues\")\n",
    "plt.show()"
   ]
  },
  {
   "cell_type": "markdown",
   "id": "2ee8a7d3",
   "metadata": {},
   "source": [
    "#### This confusion matrix shows how well the model predicted whether a Pokémon was \"Legendary\" or \"Not Legendary.\" The model made 198 correct predictions for \"Not Legendary\" and 34 correct predictions for \"Legendary.\" There were 4 incorrect predictions where \"Not Legendary\" was predicted as \"Legendary\" and 1 where \"Legendary\" was predicted as \"Not Legendary.\" Overall, the model did a good job at predicting."
   ]
  },
  {
   "cell_type": "code",
   "execution_count": 90,
   "id": "4089aa0e",
   "metadata": {},
   "outputs": [
    {
     "name": "stdout",
     "output_type": "stream",
     "text": [
      "               precision    recall  f1-score   support\n",
      "\n",
      "Not Legendary       0.98      0.99      0.99       199\n",
      "    Legendary       0.97      0.89      0.93        38\n",
      "\n",
      "     accuracy                           0.98       237\n",
      "    macro avg       0.98      0.94      0.96       237\n",
      " weighted avg       0.98      0.98      0.98       237\n",
      "\n"
     ]
    }
   ],
   "source": [
    "# Show which predictions were correct and which were wrong using a confusion matrix\n",
    "\n",
    "from sklearn.metrics import classification_report\n",
    "\n",
    "print(classification_report(y_test, y_pred, target_names=[\"Not Legendary\", \"Legendary\"]))"
   ]
  },
  {
   "cell_type": "code",
   "execution_count": 91,
   "id": "a6930538",
   "metadata": {},
   "outputs": [
    {
     "data": {
      "image/png": "[encoded data removed]",
      "text/plain": [
       "<Figure size 2000x1000 with 1 Axes>"
      ]
     },
     "metadata": {},
     "output_type": "display_data"
    }
   ],
   "source": [
    "# Visualizing the decision tree logic used by the model\n",
    "\n",
    "import matplotlib.pyplot as plt\n",
    "\n",
    "plt.figure(figsize=(20,10))\n",
    "tree.plot_tree(dt, feature_names=dfp.drop(['Legendary Status', 'Name'], axis=1).columns, class_names=[\"Not Legendary\", \"Legendary\"], filled=True)\n",
    "plt.show()\n"
   ]
  },
  {
   "cell_type": "markdown",
   "id": "54e82044",
   "metadata": {},
   "source": [
    "### This decision tree classifies Pokémon as \"Legendary\" or \"Not Legendary\" based on various features, such as \"Base Stat Total,\" \"Catch Rate,\" \"Health,\" and \"Number of Evolutions.\" The tree splits the data at key thresholds to make predictions, providing insight into the model's decision-making process.\n",
    "\n",
    "\n",
    "\n",
    "\n",
    "\n",
    "\n"
   ]
  },
  {
   "cell_type": "markdown",
   "id": "dd231ded",
   "metadata": {},
   "source": [
    "### Evaluating the performance with new data"
   ]
  },
  {
   "cell_type": "code",
   "execution_count": 93,
   "id": "a03edad9",
   "metadata": {},
   "outputs": [
    {
     "name": "stdout",
     "output_type": "stream",
     "text": [
      "Prediction for Pokémon: Not Legendary\n"
     ]
    }
   ],
   "source": [
    "# Testing with my 'own' pokemon. \n",
    "# Input data for Charmander:\n",
    "\n",
    "pokemon_input = [[\n",
    "    1,  # Primary Typing (fire)\n",
    "    0,  # Secondary Typing (None)\n",
    "    0,  # Secondary Typing Flag (False)\n",
    "    0,  # Generation (example)\n",
    "    0,  # Legendary Status (False)\n",
    "    3,  # Evolution Stage (example)\n",
    "    3,  # Number of Evolution\n",
    "    45,  # Catch Rate\n",
    "    10,  # Height (in dm)\n",
    "    30,  # Weight (in hg)\n",
    "    40,  # Height (in inches)\n",
    "    88,  # Weight (in lbs)\n",
    "    600,  # Base Stat Total\n",
    "    50,  # Health\n",
    "    55,  # Attack\n",
    "    45,  # Defense\n",
    "    80,  # Special Attack\n",
    "    70,  # Special Defense\n",
    "    80,  # Speed\n",
    "]] \n",
    "\n",
    "# Use the trained Voting Classifier model (eclf) to make the prediction\n",
    "prediction = eclf.predict(pokemon_input)\n",
    "\n",
    "# Show the result: \"Legendary\" or \"Not Legendary\"\n",
    "print(\"Prediction for Pokémon:\", \"Legendary\" if prediction[0] == 1 else \"Not Legendary\")\n"
   ]
  },
  {
   "cell_type": "markdown",
   "id": "a224a7ae",
   "metadata": {},
   "source": [
    "#### This code tests the AI model with input data for Charmander. The model uses the trained Voting Classifier to predict if Charmander is \"Legendary\" or \"Not Legendary\" based on various attributes like Primary Typing, Catch Rate, Health, Attack, and others. In this case, the prediction result shows \"Not Legendary,\" indicating that Charmander is classified as a non-legendary Pokémon based on the provided features."
   ]
  }
 ],
 "metadata": {
  "kernelspec": {
   "display_name": "base",
   "language": "python",
   "name": "python3"
  },
  "language_info": {
   "codemirror_mode": {
    "name": "ipython",
    "version": 3
   },
   "file_extension": ".py",
   "mimetype": "text/x-python",
   "name": "python",
   "nbconvert_exporter": "python",
   "pygments_lexer": "ipython3",
   "version": "3.12.7"
  }
 },
 "nbformat": 4,
 "nbformat_minor": 5
}
