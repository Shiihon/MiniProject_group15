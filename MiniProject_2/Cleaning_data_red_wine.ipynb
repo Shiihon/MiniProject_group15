{
 "cells": [
  {
   "cell_type": "markdown",
   "id": "c3464d02",
   "metadata": {},
   "source": [
    "# Data Cleaning & Preparation Steps\n",
    "### Cleaning process \n",
    "1. Check for Missing Values\n",
    "2. Check for Duplicates\n",
    "3. Validate Column Names\n",
    "4. Check Data Types\n",
    "5. Check for Outliers\n"
   ]
  },
  {
   "cell_type": "code",
   "execution_count": 66,
   "id": "191a9ec1",
   "metadata": {},
   "outputs": [],
   "source": [
    "# Imports\n",
    "# Pandas for structuring the data\n",
    "import pandas as pd\n",
    "\n",
    "# numpy for numerical analysis\n",
    "import numpy as np\n",
    "\n",
    "# matplotlib for diagrams inline with text\n",
    "import matplotlib.pyplot as plt\n",
    "%matplotlib inline \n",
    "\n",
    "#for generating random numbers\n",
    "import random\n",
    "\n",
    "import seaborn as sns\n",
    "\n",
    "# the most important library for machine learning algorithms\n",
    "from sklearn import datasets, svm, tree, preprocessing, metrics"
   ]
  },
  {
   "cell_type": "markdown",
   "id": "560b9bc7",
   "metadata": {},
   "source": [
    "## Reading and loading data. Then adding a new column for \"wine type\""
   ]
  },
  {
   "cell_type": "code",
   "execution_count": 42,
   "id": "4553b007",
   "metadata": {},
   "outputs": [],
   "source": [
    "# read the file into a pandas dataframe\n",
    "df = pd.read_excel('data/winequality-red.xlsx', skiprows=1)"
   ]
  },
  {
   "cell_type": "code",
   "execution_count": 44,
   "id": "3d6a0bda",
   "metadata": {},
   "outputs": [],
   "source": [
    "# Adding wine type column\n",
    "df['wine type'] = 'red'"
   ]
  },
  {
   "cell_type": "code",
   "execution_count": 47,
   "id": "5bfa95b6",
   "metadata": {},
   "outputs": [
    {
     "data": {
      "text/plain": [
       "['fixed acidity',\n",
       " 'volatile acidity',\n",
       " 'citric acid',\n",
       " 'residual sugar',\n",
       " 'chlorides',\n",
       " 'free sulfur dioxide',\n",
       " 'total sulfur dioxide',\n",
       " 'density',\n",
       " 'pH',\n",
       " 'sulphates',\n",
       " 'alcohol',\n",
       " 'quality',\n",
       " 'wine type']"
      ]
     },
     "execution_count": 47,
     "metadata": {},
     "output_type": "execute_result"
    }
   ],
   "source": [
    "# The different attribute labels \n",
    "list(df)"
   ]
  },
  {
   "cell_type": "code",
   "execution_count": 61,
   "id": "ec8abd95",
   "metadata": {},
   "outputs": [
    {
     "name": "stdout",
     "output_type": "stream",
     "text": [
      "<class 'pandas.core.frame.DataFrame'>\n",
      "Index: 1359 entries, 0 to 1598\n",
      "Data columns (total 13 columns):\n",
      " #   Column                Non-Null Count  Dtype   \n",
      "---  ------                --------------  -----   \n",
      " 0   fixed acidity         1359 non-null   float64 \n",
      " 1   volatile acidity      1359 non-null   float64 \n",
      " 2   citric acid           1359 non-null   float64 \n",
      " 3   residual sugar        1359 non-null   float64 \n",
      " 4   chlorides             1359 non-null   float64 \n",
      " 5   free sulfur dioxide   1359 non-null   float64 \n",
      " 6   total sulfur dioxide  1359 non-null   float64 \n",
      " 7   density               1359 non-null   float64 \n",
      " 8   pH                    1359 non-null   float64 \n",
      " 9   sulphates             1359 non-null   float64 \n",
      " 10  alcohol               1359 non-null   float64 \n",
      " 11  quality               1359 non-null   int64   \n",
      " 12  wine type             1359 non-null   category\n",
      "dtypes: category(1), float64(11), int64(1)\n",
      "memory usage: 139.5 KB\n"
     ]
    }
   ],
   "source": [
    "# Getting an overview\n",
    "df.info()"
   ]
  },
  {
   "cell_type": "code",
   "execution_count": 52,
   "id": "2bd257cd",
   "metadata": {},
   "outputs": [
    {
     "data": {
      "text/html": [
       "<div>\n",
       "<style scoped>\n",
       "    .dataframe tbody tr th:only-of-type {\n",
       "        vertical-align: middle;\n",
       "    }\n",
       "\n",
       "    .dataframe tbody tr th {\n",
       "        vertical-align: top;\n",
       "    }\n",
       "\n",
       "    .dataframe thead th {\n",
       "        text-align: right;\n",
       "    }\n",
       "</style>\n",
       "<table border=\"1\" class=\"dataframe\">\n",
       "  <thead>\n",
       "    <tr style=\"text-align: right;\">\n",
       "      <th></th>\n",
       "      <th>fixed acidity</th>\n",
       "      <th>volatile acidity</th>\n",
       "      <th>citric acid</th>\n",
       "      <th>residual sugar</th>\n",
       "      <th>chlorides</th>\n",
       "      <th>free sulfur dioxide</th>\n",
       "      <th>total sulfur dioxide</th>\n",
       "      <th>density</th>\n",
       "      <th>pH</th>\n",
       "      <th>sulphates</th>\n",
       "      <th>alcohol</th>\n",
       "      <th>quality</th>\n",
       "    </tr>\n",
       "  </thead>\n",
       "  <tbody>\n",
       "    <tr>\n",
       "      <th>count</th>\n",
       "      <td>1599.000000</td>\n",
       "      <td>1599.000000</td>\n",
       "      <td>1599.000000</td>\n",
       "      <td>1599.000000</td>\n",
       "      <td>1599.000000</td>\n",
       "      <td>1599.000000</td>\n",
       "      <td>1599.000000</td>\n",
       "      <td>1599.000000</td>\n",
       "      <td>1599.000000</td>\n",
       "      <td>1599.000000</td>\n",
       "      <td>1599.000000</td>\n",
       "      <td>1599.000000</td>\n",
       "    </tr>\n",
       "    <tr>\n",
       "      <th>mean</th>\n",
       "      <td>8.319637</td>\n",
       "      <td>0.527821</td>\n",
       "      <td>0.270976</td>\n",
       "      <td>2.538806</td>\n",
       "      <td>0.087467</td>\n",
       "      <td>15.874922</td>\n",
       "      <td>46.467792</td>\n",
       "      <td>0.996747</td>\n",
       "      <td>3.311113</td>\n",
       "      <td>0.658149</td>\n",
       "      <td>10.422983</td>\n",
       "      <td>5.636023</td>\n",
       "    </tr>\n",
       "    <tr>\n",
       "      <th>std</th>\n",
       "      <td>1.741096</td>\n",
       "      <td>0.179060</td>\n",
       "      <td>0.194801</td>\n",
       "      <td>1.409928</td>\n",
       "      <td>0.047065</td>\n",
       "      <td>10.460157</td>\n",
       "      <td>32.895324</td>\n",
       "      <td>0.001887</td>\n",
       "      <td>0.154386</td>\n",
       "      <td>0.169507</td>\n",
       "      <td>1.065668</td>\n",
       "      <td>0.807569</td>\n",
       "    </tr>\n",
       "    <tr>\n",
       "      <th>min</th>\n",
       "      <td>4.600000</td>\n",
       "      <td>0.120000</td>\n",
       "      <td>0.000000</td>\n",
       "      <td>0.900000</td>\n",
       "      <td>0.012000</td>\n",
       "      <td>1.000000</td>\n",
       "      <td>6.000000</td>\n",
       "      <td>0.990070</td>\n",
       "      <td>2.740000</td>\n",
       "      <td>0.330000</td>\n",
       "      <td>8.400000</td>\n",
       "      <td>3.000000</td>\n",
       "    </tr>\n",
       "    <tr>\n",
       "      <th>25%</th>\n",
       "      <td>7.100000</td>\n",
       "      <td>0.390000</td>\n",
       "      <td>0.090000</td>\n",
       "      <td>1.900000</td>\n",
       "      <td>0.070000</td>\n",
       "      <td>7.000000</td>\n",
       "      <td>22.000000</td>\n",
       "      <td>0.995600</td>\n",
       "      <td>3.210000</td>\n",
       "      <td>0.550000</td>\n",
       "      <td>9.500000</td>\n",
       "      <td>5.000000</td>\n",
       "    </tr>\n",
       "    <tr>\n",
       "      <th>50%</th>\n",
       "      <td>7.900000</td>\n",
       "      <td>0.520000</td>\n",
       "      <td>0.260000</td>\n",
       "      <td>2.200000</td>\n",
       "      <td>0.079000</td>\n",
       "      <td>14.000000</td>\n",
       "      <td>38.000000</td>\n",
       "      <td>0.996750</td>\n",
       "      <td>3.310000</td>\n",
       "      <td>0.620000</td>\n",
       "      <td>10.200000</td>\n",
       "      <td>6.000000</td>\n",
       "    </tr>\n",
       "    <tr>\n",
       "      <th>75%</th>\n",
       "      <td>9.200000</td>\n",
       "      <td>0.640000</td>\n",
       "      <td>0.420000</td>\n",
       "      <td>2.600000</td>\n",
       "      <td>0.090000</td>\n",
       "      <td>21.000000</td>\n",
       "      <td>62.000000</td>\n",
       "      <td>0.997835</td>\n",
       "      <td>3.400000</td>\n",
       "      <td>0.730000</td>\n",
       "      <td>11.100000</td>\n",
       "      <td>6.000000</td>\n",
       "    </tr>\n",
       "    <tr>\n",
       "      <th>max</th>\n",
       "      <td>15.900000</td>\n",
       "      <td>1.580000</td>\n",
       "      <td>1.000000</td>\n",
       "      <td>15.500000</td>\n",
       "      <td>0.611000</td>\n",
       "      <td>72.000000</td>\n",
       "      <td>289.000000</td>\n",
       "      <td>1.003690</td>\n",
       "      <td>4.010000</td>\n",
       "      <td>2.000000</td>\n",
       "      <td>14.900000</td>\n",
       "      <td>8.000000</td>\n",
       "    </tr>\n",
       "  </tbody>\n",
       "</table>\n",
       "</div>"
      ],
      "text/plain": [
       "       fixed acidity  volatile acidity  citric acid  residual sugar  \\\n",
       "count    1599.000000       1599.000000  1599.000000     1599.000000   \n",
       "mean        8.319637          0.527821     0.270976        2.538806   \n",
       "std         1.741096          0.179060     0.194801        1.409928   \n",
       "min         4.600000          0.120000     0.000000        0.900000   \n",
       "25%         7.100000          0.390000     0.090000        1.900000   \n",
       "50%         7.900000          0.520000     0.260000        2.200000   \n",
       "75%         9.200000          0.640000     0.420000        2.600000   \n",
       "max        15.900000          1.580000     1.000000       15.500000   \n",
       "\n",
       "         chlorides  free sulfur dioxide  total sulfur dioxide      density  \\\n",
       "count  1599.000000          1599.000000           1599.000000  1599.000000   \n",
       "mean      0.087467            15.874922             46.467792     0.996747   \n",
       "std       0.047065            10.460157             32.895324     0.001887   \n",
       "min       0.012000             1.000000              6.000000     0.990070   \n",
       "25%       0.070000             7.000000             22.000000     0.995600   \n",
       "50%       0.079000            14.000000             38.000000     0.996750   \n",
       "75%       0.090000            21.000000             62.000000     0.997835   \n",
       "max       0.611000            72.000000            289.000000     1.003690   \n",
       "\n",
       "                pH    sulphates      alcohol      quality  \n",
       "count  1599.000000  1599.000000  1599.000000  1599.000000  \n",
       "mean      3.311113     0.658149    10.422983     5.636023  \n",
       "std       0.154386     0.169507     1.065668     0.807569  \n",
       "min       2.740000     0.330000     8.400000     3.000000  \n",
       "25%       3.210000     0.550000     9.500000     5.000000  \n",
       "50%       3.310000     0.620000    10.200000     6.000000  \n",
       "75%       3.400000     0.730000    11.100000     6.000000  \n",
       "max       4.010000     2.000000    14.900000     8.000000  "
      ]
     },
     "execution_count": 52,
     "metadata": {},
     "output_type": "execute_result"
    }
   ],
   "source": [
    "df.describe()"
   ]
  },
  {
   "cell_type": "markdown",
   "id": "f2fff77c",
   "metadata": {},
   "source": [
    "#### As seen above on count, there are NO missing values, Which is good. \n",
    "#### Possible outliers:\n",
    "#### \"total sulfur dioxide\" with a mean of 46.46 but a max of 289. Also has an std on 32.89, which means there are a lot of variations. "
   ]
  },
  {
   "cell_type": "code",
   "execution_count": 65,
   "id": "12e39690",
   "metadata": {},
   "outputs": [
    {
     "data": {
      "text/html": [
       "<div>\n",
       "<style scoped>\n",
       "    .dataframe tbody tr th:only-of-type {\n",
       "        vertical-align: middle;\n",
       "    }\n",
       "\n",
       "    .dataframe tbody tr th {\n",
       "        vertical-align: top;\n",
       "    }\n",
       "\n",
       "    .dataframe thead th {\n",
       "        text-align: right;\n",
       "    }\n",
       "</style>\n",
       "<table border=\"1\" class=\"dataframe\">\n",
       "  <thead>\n",
       "    <tr style=\"text-align: right;\">\n",
       "      <th></th>\n",
       "      <th>fixed_acidity</th>\n",
       "      <th>volatile_acidity</th>\n",
       "      <th>citric_acid</th>\n",
       "      <th>residual_sugar</th>\n",
       "      <th>chlorides</th>\n",
       "      <th>free_sulfur_dioxide</th>\n",
       "      <th>total_sulfur_dioxide</th>\n",
       "      <th>density</th>\n",
       "      <th>ph</th>\n",
       "      <th>sulphates</th>\n",
       "      <th>alcohol</th>\n",
       "      <th>quality</th>\n",
       "      <th>wine_type</th>\n",
       "    </tr>\n",
       "  </thead>\n",
       "  <tbody>\n",
       "    <tr>\n",
       "      <th>0</th>\n",
       "      <td>7.4</td>\n",
       "      <td>0.70</td>\n",
       "      <td>0.00</td>\n",
       "      <td>1.9</td>\n",
       "      <td>0.076</td>\n",
       "      <td>11.0</td>\n",
       "      <td>34.0</td>\n",
       "      <td>0.9978</td>\n",
       "      <td>3.51</td>\n",
       "      <td>0.56</td>\n",
       "      <td>9.4</td>\n",
       "      <td>5</td>\n",
       "      <td>red</td>\n",
       "    </tr>\n",
       "    <tr>\n",
       "      <th>1</th>\n",
       "      <td>7.8</td>\n",
       "      <td>0.88</td>\n",
       "      <td>0.00</td>\n",
       "      <td>2.6</td>\n",
       "      <td>0.098</td>\n",
       "      <td>25.0</td>\n",
       "      <td>67.0</td>\n",
       "      <td>0.9968</td>\n",
       "      <td>3.20</td>\n",
       "      <td>0.68</td>\n",
       "      <td>9.8</td>\n",
       "      <td>5</td>\n",
       "      <td>red</td>\n",
       "    </tr>\n",
       "    <tr>\n",
       "      <th>2</th>\n",
       "      <td>7.8</td>\n",
       "      <td>0.76</td>\n",
       "      <td>0.04</td>\n",
       "      <td>2.3</td>\n",
       "      <td>0.092</td>\n",
       "      <td>15.0</td>\n",
       "      <td>54.0</td>\n",
       "      <td>0.9970</td>\n",
       "      <td>3.26</td>\n",
       "      <td>0.65</td>\n",
       "      <td>9.8</td>\n",
       "      <td>5</td>\n",
       "      <td>red</td>\n",
       "    </tr>\n",
       "    <tr>\n",
       "      <th>3</th>\n",
       "      <td>11.2</td>\n",
       "      <td>0.28</td>\n",
       "      <td>0.56</td>\n",
       "      <td>1.9</td>\n",
       "      <td>0.075</td>\n",
       "      <td>17.0</td>\n",
       "      <td>60.0</td>\n",
       "      <td>0.9980</td>\n",
       "      <td>3.16</td>\n",
       "      <td>0.58</td>\n",
       "      <td>9.8</td>\n",
       "      <td>6</td>\n",
       "      <td>red</td>\n",
       "    </tr>\n",
       "    <tr>\n",
       "      <th>5</th>\n",
       "      <td>7.4</td>\n",
       "      <td>0.66</td>\n",
       "      <td>0.00</td>\n",
       "      <td>1.8</td>\n",
       "      <td>0.075</td>\n",
       "      <td>13.0</td>\n",
       "      <td>40.0</td>\n",
       "      <td>0.9978</td>\n",
       "      <td>3.51</td>\n",
       "      <td>0.56</td>\n",
       "      <td>9.4</td>\n",
       "      <td>5</td>\n",
       "      <td>red</td>\n",
       "    </tr>\n",
       "  </tbody>\n",
       "</table>\n",
       "</div>"
      ],
      "text/plain": [
       "   fixed_acidity  volatile_acidity  citric_acid  residual_sugar  chlorides  \\\n",
       "0            7.4              0.70         0.00             1.9      0.076   \n",
       "1            7.8              0.88         0.00             2.6      0.098   \n",
       "2            7.8              0.76         0.04             2.3      0.092   \n",
       "3           11.2              0.28         0.56             1.9      0.075   \n",
       "5            7.4              0.66         0.00             1.8      0.075   \n",
       "\n",
       "   free_sulfur_dioxide  total_sulfur_dioxide  density    ph  sulphates  \\\n",
       "0                 11.0                  34.0   0.9978  3.51       0.56   \n",
       "1                 25.0                  67.0   0.9968  3.20       0.68   \n",
       "2                 15.0                  54.0   0.9970  3.26       0.65   \n",
       "3                 17.0                  60.0   0.9980  3.16       0.58   \n",
       "5                 13.0                  40.0   0.9978  3.51       0.56   \n",
       "\n",
       "   alcohol  quality wine_type  \n",
       "0      9.4        5       red  \n",
       "1      9.8        5       red  \n",
       "2      9.8        5       red  \n",
       "3      9.8        6       red  \n",
       "5      9.4        5       red  "
      ]
     },
     "execution_count": 65,
     "metadata": {},
     "output_type": "execute_result"
    }
   ],
   "source": [
    "# The data\n",
    "df.head()"
   ]
  },
  {
   "cell_type": "markdown",
   "id": "a9430c91",
   "metadata": {},
   "source": [
    "## Cleaning data"
   ]
  },
  {
   "cell_type": "code",
   "execution_count": 54,
   "id": "93f61d06",
   "metadata": {},
   "outputs": [
    {
     "data": {
      "text/plain": [
       "fixed acidity           0\n",
       "volatile acidity        0\n",
       "citric acid             0\n",
       "residual sugar          0\n",
       "chlorides               0\n",
       "free sulfur dioxide     0\n",
       "total sulfur dioxide    0\n",
       "density                 0\n",
       "pH                      0\n",
       "sulphates               0\n",
       "alcohol                 0\n",
       "quality                 0\n",
       "wine type               0\n",
       "dtype: int64"
      ]
     },
     "execution_count": 54,
     "metadata": {},
     "output_type": "execute_result"
    }
   ],
   "source": [
    "# Checking for any missing values (even if it says there are none above)\n",
    "df.isnull().sum()"
   ]
  },
  {
   "cell_type": "markdown",
   "id": "8bbc62a5",
   "metadata": {},
   "source": [
    "##### No missing values as expected."
   ]
  },
  {
   "cell_type": "code",
   "execution_count": 57,
   "id": "609e5333",
   "metadata": {},
   "outputs": [
    {
     "data": {
      "text/plain": [
       "0"
      ]
     },
     "execution_count": 57,
     "metadata": {},
     "output_type": "execute_result"
    }
   ],
   "source": [
    "# Checking for duplicates \n",
    "df.duplicated().sum()"
   ]
  },
  {
   "cell_type": "markdown",
   "id": "d5e81937",
   "metadata": {},
   "source": [
    "##### 240 duplicates in the data sheet, meaning 15% of our data is redundant (Will be deleted)."
   ]
  },
  {
   "cell_type": "code",
   "execution_count": 56,
   "id": "737dd1be",
   "metadata": {},
   "outputs": [],
   "source": [
    "# Deleting duplicates\n",
    "df.drop_duplicates(inplace=True)"
   ]
  },
  {
   "cell_type": "code",
   "execution_count": 60,
   "id": "14e0adc6",
   "metadata": {},
   "outputs": [],
   "source": [
    "# Fixing data type - OBS. All data is actually pretty good as we can see further up under info(), but to make it more efficient the \"wine type\" gets changed from string to category.\n",
    "df['wine type'] = df['wine type'].astype('category')"
   ]
  },
  {
   "cell_type": "code",
   "execution_count": null,
   "id": "9f8a3965",
   "metadata": {},
   "outputs": [],
   "source": [
    "# Standardizing column names - removing space.\n",
    "df.columns = df.columns.str.strip().str.lower().str.replace(' ', '_')"
   ]
  },
  {
   "cell_type": "markdown",
   "id": "28fefe04",
   "metadata": {},
   "source": [
    "##### Finding outliers"
   ]
  },
  {
   "cell_type": "code",
   "execution_count": 71,
   "id": "2a80ab1d",
   "metadata": {},
   "outputs": [
    {
     "data": {
      "image/png": "[encoded data removed]",
      "text/plain": [
       "<Figure size 640x480 with 1 Axes>"
      ]
     },
     "metadata": {},
     "output_type": "display_data"
    }
   ],
   "source": [
    "# Boxplot for 'total sulfur dioxide'\n",
    "sns.boxplot(x=df['total_sulfur_dioxide'])\n",
    "plt.show()"
   ]
  },
  {
   "cell_type": "markdown",
   "id": "84068ac2",
   "metadata": {},
   "source": [
    "##### There are two dots after 250 to 300 are major outliers and needs to be removed. The other two at the end are medium outliers, and might just get capped. So everything from 0-200 is normal range, a bit after 150 are possible outliers."
   ]
  },
  {
   "cell_type": "code",
   "execution_count": 68,
   "id": "9d2d46b9",
   "metadata": {},
   "outputs": [],
   "source": [
    "# Removing anything over 250. \n",
    "df = df[df['total_sulfur_dioxide'] <= 250]"
   ]
  },
  {
   "cell_type": "code",
   "execution_count": 77,
   "id": "cdd853b1",
   "metadata": {},
   "outputs": [],
   "source": [
    "# Calculating Q1, Q3, and IQR\n",
    "Q1 = df['total_sulfur_dioxide'].quantile(0.25)\n",
    "Q3 = df['total_sulfur_dioxide'].quantile(0.75)\n",
    "IQR = Q3 - Q1\n",
    "\n",
    "# Finding lower and upper boundaries\n",
    "lower_bound = Q1 - 1.5 * IQR\n",
    "upper_bound = Q3 + 1.5 * IQR"
   ]
  },
  {
   "cell_type": "code",
   "execution_count": 78,
   "id": "15b834ca",
   "metadata": {},
   "outputs": [
    {
     "name": "stdout",
     "output_type": "stream",
     "text": [
      "Q1 (25th percentile): 22.0\n",
      "Q3 (75th percentile): 63.0\n",
      "IQR (Interquartile Range): 41.0\n",
      "Lower Bound: -39.5\n",
      "Upper Bound: 124.5\n"
     ]
    }
   ],
   "source": [
    "# Showing the calculations\n",
    "print(f\"Q1 (25th percentile): {Q1}\")\n",
    "print(f\"Q3 (75th percentile): {Q3}\")\n",
    "print(f\"IQR (Interquartile Range): {IQR}\")\n",
    "print(f\"Lower Bound: {lower_bound}\")\n",
    "print(f\"Upper Bound: {upper_bound}\")"
   ]
  },
  {
   "cell_type": "markdown",
   "id": "23a795c0",
   "metadata": {},
   "source": [
    "##### We will ignore the lower bound, since sulfur dioxide can't go into minus. But we can see that upper bound is at 124.5, which means we should cap at that value, so that everything over 124.5 gets that exact value. "
   ]
  },
  {
   "cell_type": "code",
   "execution_count": 79,
   "id": "a6285160",
   "metadata": {},
   "outputs": [
    {
     "name": "stdout",
     "output_type": "stream",
     "text": [
      "      total_sulfur_dioxide\n",
      "14                   145.0\n",
      "15                   148.0\n",
      "86                   136.0\n",
      "88                   125.0\n",
      "90                   140.0\n",
      "92                   133.0\n",
      "109                  150.0\n",
      "130                  134.0\n",
      "145                  141.0\n",
      "154                  129.0\n",
      "155                  128.0\n",
      "188                  143.0\n",
      "189                  144.0\n",
      "190                  127.0\n",
      "192                  126.0\n",
      "201                  145.0\n",
      "219                  144.0\n",
      "313                  135.0\n",
      "354                  150.0\n",
      "415                  134.0\n",
      "463                  129.0\n",
      "515                  150.0\n",
      "522                  133.0\n",
      "523                  142.0\n",
      "591                  149.0\n",
      "636                  147.0\n",
      "637                  145.0\n",
      "649                  148.0\n",
      "651                  150.0\n",
      "672                  150.0\n",
      "684                  150.0\n",
      "694                  125.0\n",
      "723                  127.0\n",
      "741                  139.0\n",
      "771                  143.0\n",
      "772                  144.0\n",
      "791                  130.0\n",
      "1131                 135.0\n",
      "1244                 150.0\n",
      "1400                 141.0\n",
      "1419                 133.0\n",
      "1493                 147.0\n",
      "1559                 131.0\n"
     ]
    }
   ],
   "source": [
    "# Seeing the outliers\n",
    "outliers = df[(df['total_sulfur_dioxide'] < lower_bound) | (df['total_sulfur_dioxide'] > upper_bound)]\n",
    "print(outliers[['total_sulfur_dioxide']])"
   ]
  },
  {
   "cell_type": "markdown",
   "id": "8994ed87",
   "metadata": {},
   "source": [
    "##### Here we see the outliers, now since it feels very strict to cap exactly at 124.5 - which is if we are at laboratory lvl's which needs strict data. Since we are not, we will find the median between the outliers, and cap at that. "
   ]
  },
  {
   "cell_type": "code",
   "execution_count": 81,
   "id": "6a8a47f3",
   "metadata": {},
   "outputs": [
    {
     "name": "stdout",
     "output_type": "stream",
     "text": [
      "125.0\n",
      "141.0\n",
      "150.0\n"
     ]
    }
   ],
   "source": [
    "outlier_values = outliers['total_sulfur_dioxide']\n",
    "\n",
    "print(outlier_values.min())\n",
    "print(outlier_values.median())\n",
    "print(outlier_values.max())"
   ]
  },
  {
   "cell_type": "markdown",
   "id": "cf2c73f2",
   "metadata": {},
   "source": [
    "##### We will be capping at 140 - since we at this value won't lose valuable natural variance around 130-140 sulfur. This is also being business-smart since a lot of wineries would allow this extend\n",
    "##### of sulfur variation in their wines. "
   ]
  },
  {
   "cell_type": "code",
   "execution_count": 82,
   "id": "57859c21",
   "metadata": {},
   "outputs": [
    {
     "name": "stderr",
     "output_type": "stream",
     "text": [
      "C:\\Users\\nadia\\AppData\\Local\\Temp\\ipykernel_2304\\3665758083.py:2: SettingWithCopyWarning: \n",
      "A value is trying to be set on a copy of a slice from a DataFrame.\n",
      "Try using .loc[row_indexer,col_indexer] = value instead\n",
      "\n",
      "See the caveats in the documentation: https://pandas.pydata.org/pandas-docs/stable/user_guide/indexing.html#returning-a-view-versus-a-copy\n",
      "  df['total_sulfur_dioxide'] = df['total_sulfur_dioxide'].clip(upper=140)\n"
     ]
    }
   ],
   "source": [
    "# Capping, making sure that anything over 150 just gets 150 as a value\n",
    "df['total_sulfur_dioxide'] = df['total_sulfur_dioxide'].clip(upper=140)"
   ]
  },
  {
   "cell_type": "code",
   "execution_count": 83,
   "id": "97fdfa50",
   "metadata": {},
   "outputs": [],
   "source": [
    "# Saving the cleaned data sheet as a csv file.\n",
    "df.to_csv('red_wine_cleaned.csv', index=False)"
   ]
  }
 ],
 "metadata": {
  "kernelspec": {
   "display_name": "base",
   "language": "python",
   "name": "python3"
  },
  "language_info": {
   "codemirror_mode": {
    "name": "ipython",
    "version": 3
   },
   "file_extension": ".py",
   "mimetype": "text/x-python",
   "name": "python",
   "nbconvert_exporter": "python",
   "pygments_lexer": "ipython3",
   "version": "3.12.7"
  }
 },
 "nbformat": 4,
 "nbformat_minor": 5
}
