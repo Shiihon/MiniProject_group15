{
 "cells": [
  {
   "cell_type": "code",
   "execution_count": null,
   "id": "4f3951d3",
   "metadata": {},
   "outputs": [],
   "source": [
    "#Task 9: Split the aggregated data into five subsets by binning the attribute pH. Which subset has highest density? What if you split the data in ten subsets?\n",
    "# importing pandas for data handling \n",
    "# and matplotlib for plotting\n",
    "import pandas as pd\n",
    "import matplotlib.pyplot as plt"
   ]
  },
  {
   "cell_type": "code",
   "execution_count": null,
   "id": "4ea43608",
   "metadata": {},
   "outputs": [
    {
     "data": {
      "text/html": [
       "<div>\n",
       "<style scoped>\n",
       "    .dataframe tbody tr th:only-of-type {\n",
       "        vertical-align: middle;\n",
       "    }\n",
       "\n",
       "    .dataframe tbody tr th {\n",
       "        vertical-align: top;\n",
       "    }\n",
       "\n",
       "    .dataframe thead th {\n",
       "        text-align: right;\n",
       "    }\n",
       "</style>\n",
       "<table border=\"1\" class=\"dataframe\">\n",
       "  <thead>\n",
       "    <tr style=\"text-align: right;\">\n",
       "      <th></th>\n",
       "      <th>Unnamed: 0</th>\n",
       "      <th>fixed_acidity</th>\n",
       "      <th>volatile_acidity</th>\n",
       "      <th>citric_acid</th>\n",
       "      <th>residual_sugar</th>\n",
       "      <th>chlorides</th>\n",
       "      <th>free_sulfur_dioxide</th>\n",
       "      <th>total_sulfur_dioxide</th>\n",
       "      <th>density</th>\n",
       "      <th>ph</th>\n",
       "      <th>sulphates</th>\n",
       "      <th>alcohol</th>\n",
       "      <th>quality</th>\n",
       "      <th>wine_type</th>\n",
       "    </tr>\n",
       "  </thead>\n",
       "  <tbody>\n",
       "    <tr>\n",
       "      <th>0</th>\n",
       "      <td>0</td>\n",
       "      <td>7.4</td>\n",
       "      <td>0.70</td>\n",
       "      <td>0.00</td>\n",
       "      <td>1.9</td>\n",
       "      <td>0.076</td>\n",
       "      <td>11.0</td>\n",
       "      <td>34.0</td>\n",
       "      <td>0.9978</td>\n",
       "      <td>3.51</td>\n",
       "      <td>0.56</td>\n",
       "      <td>9.4</td>\n",
       "      <td>5</td>\n",
       "      <td>red</td>\n",
       "    </tr>\n",
       "    <tr>\n",
       "      <th>1</th>\n",
       "      <td>1</td>\n",
       "      <td>7.8</td>\n",
       "      <td>0.88</td>\n",
       "      <td>0.00</td>\n",
       "      <td>2.6</td>\n",
       "      <td>0.098</td>\n",
       "      <td>25.0</td>\n",
       "      <td>67.0</td>\n",
       "      <td>0.9968</td>\n",
       "      <td>3.20</td>\n",
       "      <td>0.68</td>\n",
       "      <td>9.8</td>\n",
       "      <td>5</td>\n",
       "      <td>red</td>\n",
       "    </tr>\n",
       "    <tr>\n",
       "      <th>2</th>\n",
       "      <td>2</td>\n",
       "      <td>7.8</td>\n",
       "      <td>0.76</td>\n",
       "      <td>0.04</td>\n",
       "      <td>2.3</td>\n",
       "      <td>0.092</td>\n",
       "      <td>15.0</td>\n",
       "      <td>54.0</td>\n",
       "      <td>0.9970</td>\n",
       "      <td>3.26</td>\n",
       "      <td>0.65</td>\n",
       "      <td>9.8</td>\n",
       "      <td>5</td>\n",
       "      <td>red</td>\n",
       "    </tr>\n",
       "    <tr>\n",
       "      <th>3</th>\n",
       "      <td>3</td>\n",
       "      <td>11.2</td>\n",
       "      <td>0.28</td>\n",
       "      <td>0.56</td>\n",
       "      <td>1.9</td>\n",
       "      <td>0.075</td>\n",
       "      <td>17.0</td>\n",
       "      <td>60.0</td>\n",
       "      <td>0.9980</td>\n",
       "      <td>3.16</td>\n",
       "      <td>0.58</td>\n",
       "      <td>9.8</td>\n",
       "      <td>6</td>\n",
       "      <td>red</td>\n",
       "    </tr>\n",
       "    <tr>\n",
       "      <th>4</th>\n",
       "      <td>4</td>\n",
       "      <td>7.4</td>\n",
       "      <td>0.66</td>\n",
       "      <td>0.00</td>\n",
       "      <td>1.8</td>\n",
       "      <td>0.075</td>\n",
       "      <td>13.0</td>\n",
       "      <td>40.0</td>\n",
       "      <td>0.9978</td>\n",
       "      <td>3.51</td>\n",
       "      <td>0.56</td>\n",
       "      <td>9.4</td>\n",
       "      <td>5</td>\n",
       "      <td>red</td>\n",
       "    </tr>\n",
       "  </tbody>\n",
       "</table>\n",
       "</div>"
      ],
      "text/plain": [
       "   Unnamed: 0  fixed_acidity  volatile_acidity  citric_acid  residual_sugar  \\\n",
       "0           0            7.4              0.70         0.00             1.9   \n",
       "1           1            7.8              0.88         0.00             2.6   \n",
       "2           2            7.8              0.76         0.04             2.3   \n",
       "3           3           11.2              0.28         0.56             1.9   \n",
       "4           4            7.4              0.66         0.00             1.8   \n",
       "\n",
       "   chlorides  free_sulfur_dioxide  total_sulfur_dioxide  density    ph  \\\n",
       "0      0.076                 11.0                  34.0   0.9978  3.51   \n",
       "1      0.098                 25.0                  67.0   0.9968  3.20   \n",
       "2      0.092                 15.0                  54.0   0.9970  3.26   \n",
       "3      0.075                 17.0                  60.0   0.9980  3.16   \n",
       "4      0.075                 13.0                  40.0   0.9978  3.51   \n",
       "\n",
       "   sulphates  alcohol  quality wine_type  \n",
       "0       0.56      9.4        5       red  \n",
       "1       0.68      9.8        5       red  \n",
       "2       0.65      9.8        5       red  \n",
       "3       0.58      9.8        6       red  \n",
       "4       0.56      9.4        5       red  "
      ]
     },
     "execution_count": 13,
     "metadata": {},
     "output_type": "execute_result"
    }
   ],
   "source": [
    "# # Loads the dataset from the path, so it reads the information\n",
    "# I had a bit of a struggle with this one, because the path kept making errors. So I copyed the paths name directly and plotted it in. You might have to adjust it if needed\n",
    "df = pd.read_csv('C:/Users/User/BI/API/MiniProject_group15/MiniProject_2/red_white_wine_cleaned.csv')\n",
    "df.head()"
   ]
  },
  {
   "cell_type": "code",
   "execution_count": null,
   "id": "accf0a26",
   "metadata": {},
   "outputs": [
    {
     "data": {
      "text/plain": [
       "pH_bin_10\n",
       "(2.719, 2.849]      14\n",
       "(2.849, 2.978]     239\n",
       "(2.978, 3.107]     967\n",
       "(3.107, 3.236]    1718\n",
       "(3.236, 3.365]    1403\n",
       "(3.365, 3.494]     686\n",
       "(3.494, 3.623]     228\n",
       "(3.623, 3.752]      47\n",
       "(3.752, 3.881]      12\n",
       "(3.881, 4.01]        4\n",
       "Name: count, dtype: int64"
      ]
     },
     "execution_count": 16,
     "metadata": {},
     "output_type": "execute_result"
    }
   ],
   "source": [
    "# df['pH_bin_10'] = pd.cut(df['ph'], bins=10): Splits the 'pH' column into 10 equal-width intervals (bins), this gives a more detailed view of how the pH values are distributed\n",
    "# bin_counts_10 = df['pH_bin_10'].value_counts().sort_index(): # Counts how many wines fall into each of the 10 bins. Then sorts the bins in order (from low to high pH)\n",
    "#bin_counts_10: # Displays the count of wines in each of the 10 bins\n",
    "df['pH_bin_10'] = pd.cut(df['ph'], bins=10)\n",
    "bin_counts_10 = df['pH_bin_10'].value_counts().sort_index()\n",
    "bin_counts_10\n"
   ]
  },
  {
   "cell_type": "code",
   "execution_count": 24,
   "id": "e544c187",
   "metadata": {},
   "outputs": [
    {
     "data": {
      "image/png": "[encoded data removed]",
      "text/plain": [
       "<Figure size 800x400 with 1 Axes>"
      ]
     },
     "metadata": {},
     "output_type": "display_data"
    }
   ],
   "source": [
    "# plt.figure(figsize=(8, 4)): sets the size of the plot to make it easier to read\n",
    "# plt.bar(.....): creates a bar chart where each bar shows how many wines are in each pH bin\n",
    "# plt.title(....): adds a title to explain what the plot shows\n",
    "# plt.xlabel(.): label to the x-axis\n",
    "# plt.ylabel(..): same here label to the y-axis\n",
    "# plt.xticks(rotation=45): it rotates x-axis labels so they don’t overlap\n",
    "# plt.tight_layout(): adjusts spacing so everything fits, and so it doesn't look weird\n",
    "plt.figure(figsize=(8, 4))\n",
    "plt.bar(bin_counts_10.index.astype(str), bin_counts_10.values)\n",
    "plt.title('pH divided into 10 bins')\n",
    "plt.xlabel('pH intervals')\n",
    "plt.ylabel('Number of wines')\n",
    "plt.xticks(rotation=45)\n",
    "plt.tight_layout()\n",
    "\n",
    "# plt.show(): displays the plot\n",
    "plt.show()"
   ]
  },
  {
   "cell_type": "code",
   "execution_count": 20,
   "id": "96343a7f",
   "metadata": {},
   "outputs": [
    {
     "name": "stdout",
     "output_type": "stream",
     "text": [
      "Bin med flest vine (10 bins):\n",
      "(3.107, 3.236] → 1718 vine\n"
     ]
    }
   ],
   "source": [
    "print(\"Bin med flest vine (10 bins):\")\n",
    "print(bin_counts_10.idxmax(), \"→\", bin_counts_10.max(), \"vine\")\n"
   ]
  }
 ],
 "metadata": {
  "kernelspec": {
   "display_name": ".venv",
   "language": "python",
   "name": "python3"
  },
  "language_info": {
   "codemirror_mode": {
    "name": "ipython",
    "version": 3
   },
   "file_extension": ".py",
   "mimetype": "text/x-python",
   "name": "python",
   "nbconvert_exporter": "python",
   "pygments_lexer": "ipython3",
   "version": "3.12.7"
  }
 },
 "nbformat": 4,
 "nbformat_minor": 5
}
